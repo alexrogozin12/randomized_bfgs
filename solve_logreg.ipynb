{
 "cells": [
  {
   "cell_type": "code",
   "execution_count": 1,
   "metadata": {},
   "outputs": [
    {
     "name": "stdout",
     "output_type": "stream",
     "text": [
      "Populating the interactive namespace from numpy and matplotlib\n"
     ]
    }
   ],
   "source": [
    "%pylab inline\n",
    "import numpy as np\n",
    "import pickle\n",
    "import scipy\n",
    "from methods import LBFGS\n",
    "from oracles import LogRegL2Oracle, create_log_reg_oracle\n",
    "from sklearn.datasets import load_svmlight_file\n",
    "from tqdm import tqdm_notebook"
   ]
  },
  {
   "cell_type": "code",
   "execution_count": 2,
   "metadata": {},
   "outputs": [],
   "source": [
    "def solve_logreg(A, b, regcoef, dataset_name, tolerance=1e-15):\n",
    "    import os\n",
    "    import pickle\n",
    "    os.system('mkdir -p ./logreg_solutions/{}'.format(dataset_name))\n",
    "    \n",
    "    oracle = create_log_reg_oracle(A, b, regcoef)\n",
    "    method = LBFGS(oracle, x_0, tolerance=tolerance, stopping_criteria='grad_abs', \n",
    "                   memory_size=10, line_search_options={'method': 'Wolfe'})\n",
    "    method.run(10000)\n",
    "\n",
    "    with open('./logreg_solutions/{}/regcoef={:.2e}'\\\n",
    "              .format(dataset_name, regcoef), 'wb') as file:\n",
    "        pickle.dump({'x_star': method.hist['x_star'], \n",
    "                     'func_star': method.hist['func'][-1]}, file)"
   ]
  },
  {
   "cell_type": "markdown",
   "metadata": {},
   "source": [
    "### Gisette"
   ]
  },
  {
   "cell_type": "code",
   "execution_count": 4,
   "metadata": {},
   "outputs": [],
   "source": [
    "file = './datasets/gisette_scale'\n",
    "A, b = load_svmlight_file(file, n_features=None)\n",
    "A = A.toarray()\n",
    "x_0 = np.zeros((A.shape[1]))"
   ]
  },
  {
   "cell_type": "code",
   "execution_count": 5,
   "metadata": {},
   "outputs": [
    {
     "data": {
      "application/vnd.jupyter.widget-view+json": {
       "model_id": "bae34cb793e84467a59cadd4886964ef",
       "version_major": 2,
       "version_minor": 0
      },
      "text/plain": [
       "HBox(children=(IntProgress(value=0, max=7), HTML(value='')))"
      ]
     },
     "metadata": {},
     "output_type": "display_data"
    },
    {
     "name": "stdout",
     "output_type": "stream",
     "text": [
      "\n",
      "CPU times: user 23min 56s, sys: 9.1 s, total: 24min 5s\n",
      "Wall time: 45.2 s\n"
     ]
    }
   ],
   "source": [
    "%%time\n",
    "for regcoef in tqdm_notebook([1e-6, 1e-5, 1e-4, 1e-3, 1e-2, 1e-1, 1./A.shape[0]]):\n",
    "    solve_logreg(A, b, regcoef, 'gisette')"
   ]
  },
  {
   "cell_type": "markdown",
   "metadata": {},
   "source": [
    "### w8a"
   ]
  },
  {
   "cell_type": "code",
   "execution_count": 6,
   "metadata": {},
   "outputs": [],
   "source": [
    "file = './datasets/w8a.txt'\n",
    "A, b = load_svmlight_file(file, n_features=None)\n",
    "x_0 = np.zeros((A.shape[1]))"
   ]
  },
  {
   "cell_type": "code",
   "execution_count": 7,
   "metadata": {},
   "outputs": [
    {
     "data": {
      "application/vnd.jupyter.widget-view+json": {
       "model_id": "097a44a9cd374622acaa5cd41f1e2a85",
       "version_major": 2,
       "version_minor": 0
      },
      "text/plain": [
       "HBox(children=(IntProgress(value=0, max=7), HTML(value='')))"
      ]
     },
     "metadata": {},
     "output_type": "display_data"
    },
    {
     "name": "stdout",
     "output_type": "stream",
     "text": [
      "\n"
     ]
    }
   ],
   "source": [
    "for regcoef in tqdm_notebook([1e-6, 1e-5, 1e-4, 1e-3, 1e-2, 1e-1, 1./A.shape[0]]):\n",
    "    solve_logreg(A, b, regcoef, 'w8a')"
   ]
  },
  {
   "cell_type": "markdown",
   "metadata": {},
   "source": [
    "### a9a"
   ]
  },
  {
   "cell_type": "code",
   "execution_count": 6,
   "metadata": {},
   "outputs": [],
   "source": [
    "file = './datasets/a9a.txt'\n",
    "A, b = load_svmlight_file(file, n_features=None)\n",
    "x_0 = np.zeros((A.shape[1]))"
   ]
  },
  {
   "cell_type": "code",
   "execution_count": 7,
   "metadata": {},
   "outputs": [
    {
     "data": {
      "application/vnd.jupyter.widget-view+json": {
       "model_id": "8251d760b0454474bd3aad22637d04ad",
       "version_major": 2,
       "version_minor": 0
      },
      "text/plain": [
       "HBox(children=(IntProgress(value=0, max=2), HTML(value='')))"
      ]
     },
     "metadata": {},
     "output_type": "display_data"
    },
    {
     "name": "stdout",
     "output_type": "stream",
     "text": [
      "\n"
     ]
    }
   ],
   "source": [
    "for regcoef in tqdm_notebook([1e-6, 1e-5, 1e-4, 1e-3, 1e-2, 1e-1, 1./A.shape[0]]):\n",
    "    solve_logreg(A, b, regcoef, 'a9a')"
   ]
  },
  {
   "cell_type": "markdown",
   "metadata": {},
   "source": [
    "### covtype"
   ]
  },
  {
   "cell_type": "code",
   "execution_count": 9,
   "metadata": {},
   "outputs": [],
   "source": [
    "file = './datasets/covtype.libsvm.binary.scale'\n",
    "A, b = load_svmlight_file(file, n_features=None)\n",
    "x_0 = np.zeros((A.shape[1]))"
   ]
  },
  {
   "cell_type": "code",
   "execution_count": 10,
   "metadata": {},
   "outputs": [
    {
     "data": {
      "application/vnd.jupyter.widget-view+json": {
       "model_id": "2e3097e81cfd4e73ab0ed25d293aa9d2",
       "version_major": 2,
       "version_minor": 0
      },
      "text/plain": [
       "HBox(children=(IntProgress(value=0, max=2), HTML(value='')))"
      ]
     },
     "metadata": {},
     "output_type": "display_data"
    },
    {
     "name": "stdout",
     "output_type": "stream",
     "text": [
      "\n"
     ]
    }
   ],
   "source": [
    "for regcoef in tqdm_notebook([1e-3, 1e-2]):\n",
    "    solve_logreg(A, b, regcoef, 'covtype')"
   ]
  },
  {
   "cell_type": "markdown",
   "metadata": {},
   "source": [
    "### real_sim"
   ]
  },
  {
   "cell_type": "code",
   "execution_count": 5,
   "metadata": {},
   "outputs": [],
   "source": [
    "file = './datasets/real-sim'\n",
    "A, b = load_svmlight_file(file, n_features=None)\n",
    "x_0 = np.zeros((A.shape[1]))"
   ]
  },
  {
   "cell_type": "code",
   "execution_count": 6,
   "metadata": {},
   "outputs": [
    {
     "data": {
      "application/vnd.jupyter.widget-view+json": {
       "model_id": "d975244dd57c41309a8b25ff0d882f0f",
       "version_major": 2,
       "version_minor": 0
      },
      "text/plain": [
       "HBox(children=(IntProgress(value=0, max=2), HTML(value='')))"
      ]
     },
     "metadata": {},
     "output_type": "display_data"
    },
    {
     "name": "stdout",
     "output_type": "stream",
     "text": [
      "\n"
     ]
    }
   ],
   "source": [
    "for regcoef in tqdm_notebook([1e-3, 1e-4]):\n",
    "    solve_logreg(A, b, regcoef, 'real_sim')"
   ]
  },
  {
   "cell_type": "markdown",
   "metadata": {},
   "source": [
    "### colon-cancer"
   ]
  },
  {
   "cell_type": "code",
   "execution_count": 3,
   "metadata": {},
   "outputs": [],
   "source": [
    "file = './datasets/colon-cancer'\n",
    "A, b = load_svmlight_file(file, n_features=None)\n",
    "x_0 = np.zeros((A.shape[1]))"
   ]
  },
  {
   "cell_type": "code",
   "execution_count": 18,
   "metadata": {},
   "outputs": [
    {
     "data": {
      "application/vnd.jupyter.widget-view+json": {
       "model_id": "1540a1c709da4b819b6cf11e8f88e514",
       "version_major": 2,
       "version_minor": 0
      },
      "text/plain": [
       "HBox(children=(IntProgress(value=0, max=1), HTML(value='')))"
      ]
     },
     "metadata": {},
     "output_type": "display_data"
    },
    {
     "name": "stdout",
     "output_type": "stream",
     "text": [
      "\n"
     ]
    }
   ],
   "source": [
    "for regcoef in tqdm_notebook([1e-1]):\n",
    "    solve_logreg(A, b, regcoef, 'colon_cancer', tolerance=0.5*1e-16)"
   ]
  },
  {
   "cell_type": "code",
   "execution_count": 14,
   "metadata": {},
   "outputs": [],
   "source": [
    "oracle = create_log_reg_oracle(A, b, regcoef)\n",
    "method = LBFGS(oracle, x_0, tolerance=0.5*1e-16, stopping_criteria='grad_abs', \n",
    "               memory_size=10, line_search_options={'method': 'Wolfe'})\n",
    "method.run(1000)"
   ]
  },
  {
   "cell_type": "code",
   "execution_count": null,
   "metadata": {},
   "outputs": [],
   "source": []
  }
 ],
 "metadata": {
  "kernelspec": {
   "display_name": "Python 3",
   "language": "python",
   "name": "python3"
  },
  "language_info": {
   "codemirror_mode": {
    "name": "ipython",
    "version": 3
   },
   "file_extension": ".py",
   "mimetype": "text/x-python",
   "name": "python",
   "nbconvert_exporter": "python",
   "pygments_lexer": "ipython3",
   "version": "3.7.4"
  }
 },
 "nbformat": 4,
 "nbformat_minor": 4
}
