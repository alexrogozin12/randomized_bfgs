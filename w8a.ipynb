{
 "cells": [
  {
   "cell_type": "code",
   "execution_count": 1,
   "metadata": {},
   "outputs": [],
   "source": [
    "import numpy as np\n",
    "import numpy.linalg as npla\n",
    "import scipy\n",
    "import scipy.linalg as sla\n",
    "import pickle\n",
    "import os\n",
    "from sklearn.datasets import load_svmlight_file\n",
    "\n",
    "from methods import GradientDescent, Newton, Nesterov, RBFGS, LBFGS, BFGS\n",
    "from methods.rbfgs import Uniform, Gaussian, CustomDiscrete, ConstantDistribution, \\\n",
    "                          MatrixDistribution\n",
    "from oracles import LogRegL2Oracle, create_log_reg_oracle, QuadraticOracle\n",
    "from utils import select_basis_columns, run_rbfgs_experiment, run_nesterov_experiment, run_all_methods\n",
    "\n",
    "import scipy.sparse.linalg as spla\n",
    "import scipy.sparse as sps"
   ]
  },
  {
   "cell_type": "code",
   "execution_count": 2,
   "metadata": {},
   "outputs": [
    {
     "name": "stdout",
     "output_type": "stream",
     "text": [
      "(n, d) = (49749, 300)\n",
      "density = 0.03883401341400497\n"
     ]
    }
   ],
   "source": [
    "file = './datasets/w8a.txt'\n",
    "A, b = load_svmlight_file(file, n_features=None)\n",
    "print('(n, d) = {}'.format(A.shape))\n",
    "print('density = {}'.format(A.count_nonzero() / (A.shape[0] * A.shape[1])))\n",
    "oracle = create_log_reg_oracle(A, b, regcoef=1e-3)"
   ]
  },
  {
   "cell_type": "code",
   "execution_count": 3,
   "metadata": {},
   "outputs": [
    {
     "name": "stdout",
     "output_type": "stream",
     "text": [
      "Smoothness based on singular values: 0.6611993844944808\n",
      "Smoothness based on row norms: 28.5\n"
     ]
    }
   ],
   "source": [
    "with open('./results/w8a/regcoef=1.00e-03/svd.pkl', 'rb') as file:\n",
    "    U, sigma_diag, V = pickle.load(file)\n",
    "print('Smoothness based on singular values: {}'.format(sigma_diag.max()**2 / (4. * A.shape[0])))\n",
    "print('Smoothness based on row norms: {}'.format(np.max(npla.norm(A.toarray(), axis=1))**2 / 4.))"
   ]
  },
  {
   "cell_type": "code",
   "execution_count": 4,
   "metadata": {},
   "outputs": [],
   "source": [
    "sketch_sizes = [1, 2, 5, 10, 50, 100, 200]\n",
    "def experiment_w8a(regcoef):\n",
    "    oracle = create_log_reg_oracle(A, b, regcoef)\n",
    "    run_all_methods(\n",
    "        oracle=oracle, \n",
    "        sketch_sizes=sketch_sizes, \n",
    "        max_iter=1000, \n",
    "        mat=A.toarray(), \n",
    "        output_folder='./results/w8a/regcoef={:.2e}'.format(regcoef), \n",
    "        sigma_tolerance=1e-8, \n",
    "        method_tolerance=1e-15, \n",
    "        stopping_criteria='grad_abs', \n",
    "        random_state=0, \n",
    "    )"
   ]
  },
  {
   "cell_type": "code",
   "execution_count": 5,
   "metadata": {},
   "outputs": [
    {
     "name": "stdout",
     "output_type": "stream",
     "text": [
      "Read SVD from ./results/w8a/regcoef=1.00e-05/svd.pkl\n",
      "Singular values above tolerance: 266\n",
      "\n",
      "RBFGS-SVD sketch... Done\n",
      "RBFGS-SVD sketch no sigma... Done\n",
      "RBFGS-gauss... Done\n",
      "RBFGS-coord...Done\n",
      "BFGS... Done\n",
      "Nesterov...Done\n",
      "\n",
      "All runs completed.\n",
      "CPU times: user 115 ms, sys: 171 ms, total: 287 ms\n",
      "Wall time: 293 ms\n"
     ]
    }
   ],
   "source": [
    "%%time\n",
    "experiment_w8a(1e-5)"
   ]
  },
  {
   "cell_type": "code",
   "execution_count": 10,
   "metadata": {},
   "outputs": [
    {
     "name": "stdout",
     "output_type": "stream",
     "text": [
      "Read SVD from ./results/w8a/regcoef=1.00e-04/svd.pkl\n",
      "Singular values above tolerance: 266\n",
      "\n",
      "BFGS... Done\n",
      "\n",
      "All runs completed.\n",
      "CPU times: user 30.5 ms, sys: 249 ms, total: 280 ms\n",
      "Wall time: 290 ms\n"
     ]
    }
   ],
   "source": [
    "%%time\n",
    "experiment_w8a(1e-4)"
   ]
  },
  {
   "cell_type": "code",
   "execution_count": 7,
   "metadata": {
    "collapsed": true,
    "jupyter": {
     "outputs_hidden": true
    }
   },
   "outputs": [
    {
     "name": "stdout",
     "output_type": "stream",
     "text": [
      "Read SVD from ./results/w8a/regcoef=1.00e-03/svd.pkl\n",
      "Singular values above tolerance: 266\n",
      "\n",
      "RBFGS-SVD sketch... Done\n",
      "RBFGS-SVD sketch no sigma... Done\n",
      "RBFGS-gauss... Done\n",
      "RBFGS-coord...Done\n",
      "BFGS... Done\n",
      "Nesterov..."
     ]
    },
    {
     "ename": "TypeError",
     "evalue": "__init__() got an unexpected keyword argument 'stepsize'",
     "output_type": "error",
     "traceback": [
      "\u001b[0;31m---------------------------------------------------------------------------\u001b[0m",
      "\u001b[0;31mTypeError\u001b[0m                                 Traceback (most recent call last)",
      "\u001b[0;32m<timed eval>\u001b[0m in \u001b[0;36m<module>\u001b[0;34m\u001b[0m\n",
      "\u001b[0;32m<ipython-input-4-8997f91e0057>\u001b[0m in \u001b[0;36mexperiment_w8a\u001b[0;34m(regcoef)\u001b[0m\n\u001b[1;32m     11\u001b[0m         \u001b[0mmethod_tolerance\u001b[0m\u001b[0;34m=\u001b[0m\u001b[0;36m1e-15\u001b[0m\u001b[0;34m,\u001b[0m\u001b[0;34m\u001b[0m\u001b[0;34m\u001b[0m\u001b[0m\n\u001b[1;32m     12\u001b[0m         \u001b[0mstopping_criteria\u001b[0m\u001b[0;34m=\u001b[0m\u001b[0;34m'grad_abs'\u001b[0m\u001b[0;34m,\u001b[0m\u001b[0;34m\u001b[0m\u001b[0;34m\u001b[0m\u001b[0m\n\u001b[0;32m---> 13\u001b[0;31m         \u001b[0mrandom_state\u001b[0m\u001b[0;34m=\u001b[0m\u001b[0;36m0\u001b[0m\u001b[0;34m,\u001b[0m\u001b[0;34m\u001b[0m\u001b[0;34m\u001b[0m\u001b[0m\n\u001b[0m\u001b[1;32m     14\u001b[0m     )\n",
      "\u001b[0;32m~/randomized_quasinewton/experiments/utils/run_experiments.py\u001b[0m in \u001b[0;36mrun_all_methods\u001b[0;34m(oracle, sketch_sizes, mat, max_iter, output_folder, x_0, sigma_tolerance, method_tolerance, stopping_criteria, add_text, random_state, linesearch_methods, methods, overwrite)\u001b[0m\n\u001b[1;32m    173\u001b[0m             method = Nesterov(oracle, x_0, stepsize=0.1, momentum=0.99, \n\u001b[1;32m    174\u001b[0m                               \u001b[0mstopping_criteria\u001b[0m\u001b[0;34m=\u001b[0m\u001b[0mstopping_criteria\u001b[0m\u001b[0;34m,\u001b[0m\u001b[0;34m\u001b[0m\u001b[0;34m\u001b[0m\u001b[0m\n\u001b[0;32m--> 175\u001b[0;31m                               tolerance=method_tolerance)\n\u001b[0m\u001b[1;32m    176\u001b[0m             \u001b[0mmethod\u001b[0m\u001b[0;34m.\u001b[0m\u001b[0mrun\u001b[0m\u001b[0;34m(\u001b[0m\u001b[0mmax_iter\u001b[0m\u001b[0;34m)\u001b[0m\u001b[0;34m\u001b[0m\u001b[0;34m\u001b[0m\u001b[0m\n\u001b[1;32m    177\u001b[0m             \u001b[0mmethod\u001b[0m\u001b[0;34m.\u001b[0m\u001b[0moracle\u001b[0m \u001b[0;34m=\u001b[0m \u001b[0;32mNone\u001b[0m\u001b[0;34m\u001b[0m\u001b[0;34m\u001b[0m\u001b[0m\n",
      "\u001b[0;31mTypeError\u001b[0m: __init__() got an unexpected keyword argument 'stepsize'"
     ]
    }
   ],
   "source": [
    "%%time\n",
    "experiment_w8a(1e-3)"
   ]
  },
  {
   "cell_type": "code",
   "execution_count": null,
   "metadata": {},
   "outputs": [],
   "source": [
    "%%time\n",
    "experiment_w8a(1e-2)"
   ]
  },
  {
   "cell_type": "code",
   "execution_count": null,
   "metadata": {},
   "outputs": [],
   "source": [
    "%%time\n",
    "experiment_w8a(1./A.shape[0])"
   ]
  },
  {
   "cell_type": "markdown",
   "metadata": {},
   "source": [
    "### Nesterov"
   ]
  },
  {
   "cell_type": "code",
   "execution_count": 2,
   "metadata": {},
   "outputs": [
    {
     "name": "stdout",
     "output_type": "stream",
     "text": [
      "(n, d) = (49749, 300)\n",
      "density = 0.03883401341400497\n"
     ]
    }
   ],
   "source": [
    "file = './datasets/w8a.txt'\n",
    "A, b = load_svmlight_file(file, n_features=None)\n",
    "regcoef = 1e-3\n",
    "print('(n, d) = {}'.format(A.shape))\n",
    "print('density = {}'.format(A.count_nonzero() / (A.shape[0] * A.shape[1])))\n",
    "oracle = create_log_reg_oracle(A, b, regcoef=regcoef)"
   ]
  },
  {
   "cell_type": "code",
   "execution_count": 3,
   "metadata": {},
   "outputs": [],
   "source": [
    "np.random.seed(42)\n",
    "x_0 = np.random.normal(size=A.shape[1])\n",
    "output_folder = './results/w8a/regcoef=1.00e-03'\n",
    "method = Nesterov(oracle, x_0, stopping_criteria='grad_abs', \n",
    "                  tolerance=1e-16)\n",
    "method.run(max_iter=50000, max_time=30)\n",
    "method.oracle = None\n",
    "with open('{}/nesterov.pkl'.format(output_folder), 'wb') as file:\n",
    "    pickle.dump(method, file)"
   ]
  },
  {
   "cell_type": "code",
   "execution_count": null,
   "metadata": {},
   "outputs": [],
   "source": []
  }
 ],
 "metadata": {
  "kernelspec": {
   "display_name": "Python 3",
   "language": "python",
   "name": "python3"
  },
  "language_info": {
   "codemirror_mode": {
    "name": "ipython",
    "version": 3
   },
   "file_extension": ".py",
   "mimetype": "text/x-python",
   "name": "python",
   "nbconvert_exporter": "python",
   "pygments_lexer": "ipython3",
   "version": "3.7.4"
  }
 },
 "nbformat": 4,
 "nbformat_minor": 4
}
