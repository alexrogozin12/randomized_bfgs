{
 "cells": [
  {
   "cell_type": "code",
   "execution_count": 1,
   "metadata": {},
   "outputs": [],
   "source": [
    "import numpy as np\n",
    "import numpy.linalg as npla\n",
    "import scipy\n",
    "import scipy.linalg as sla\n",
    "import pickle\n",
    "from sklearn.datasets import load_svmlight_file\n",
    "\n",
    "from methods import GradientDescent, Newton, Nesterov, RBFGS, LBFGS, BFGS\n",
    "from methods.rbfgs import Uniform, Identity, CustomDiscrete\n",
    "from oracles import LogRegL2Oracle, create_log_reg_oracle, QuadraticOracle\n",
    "from utils import select_basis_columns, run_rbfgs_experiment"
   ]
  },
  {
   "cell_type": "code",
   "execution_count": 2,
   "metadata": {},
   "outputs": [],
   "source": [
    "import matplotlib\n",
    "import matplotlib.pyplot as plt\n",
    "%matplotlib inline\n",
    "matplotlib.rcParams['figure.figsize'] = (12, 8)"
   ]
  },
  {
   "cell_type": "code",
   "execution_count": 3,
   "metadata": {},
   "outputs": [],
   "source": [
    "mat_size = 100\n",
    "A = sla.hilbert(mat_size)\n",
    "oracle = QuadraticOracle(A, np.zeros(mat_size))"
   ]
  },
  {
   "cell_type": "code",
   "execution_count": 4,
   "metadata": {},
   "outputs": [],
   "source": [
    "U, sigma_diag, Vh = scipy.linalg.svd(A.T, full_matrices=False)"
   ]
  },
  {
   "cell_type": "code",
   "execution_count": 5,
   "metadata": {},
   "outputs": [],
   "source": [
    "np.random.seed(42)\n",
    "x_0 = np.random.normal(loc=0., scale=1., size=mat_size)"
   ]
  },
  {
   "cell_type": "code",
   "execution_count": 6,
   "metadata": {},
   "outputs": [
    {
     "data": {
      "application/vnd.jupyter.widget-view+json": {
       "model_id": "032b337b22c341b09b2fbfe68954aceb",
       "version_major": 2,
       "version_minor": 0
      },
      "text/plain": [
       "HBox(children=(IntProgress(value=0), HTML(value='')))"
      ]
     },
     "metadata": {},
     "output_type": "display_data"
    },
    {
     "name": "stdout",
     "output_type": "stream",
     "text": [
      "\n"
     ]
    },
    {
     "data": {
      "application/vnd.jupyter.widget-view+json": {
       "model_id": "66a76bb99ffa4e9785763284bea014b0",
       "version_major": 2,
       "version_minor": 0
      },
      "text/plain": [
       "HBox(children=(IntProgress(value=0), HTML(value='')))"
      ]
     },
     "metadata": {},
     "output_type": "display_data"
    },
    {
     "name": "stdout",
     "output_type": "stream",
     "text": [
      "\n"
     ]
    },
    {
     "name": "stderr",
     "output_type": "stream",
     "text": [
      "/home/rogozia/anaconda3/lib/python3.7/site-packages/scipy/optimize/linesearch.py:466: LineSearchWarning: The line search algorithm did not converge\n",
      "  warn('The line search algorithm did not converge', LineSearchWarning)\n"
     ]
    },
    {
     "data": {
      "application/vnd.jupyter.widget-view+json": {
       "model_id": "ee2ca6c878bb45cb964620303673b56f",
       "version_major": 2,
       "version_minor": 0
      },
      "text/plain": [
       "HBox(children=(IntProgress(value=0), HTML(value='')))"
      ]
     },
     "metadata": {},
     "output_type": "display_data"
    },
    {
     "name": "stdout",
     "output_type": "stream",
     "text": [
      "\n"
     ]
    },
    {
     "data": {
      "application/vnd.jupyter.widget-view+json": {
       "model_id": "1c342960e80744a38fcfb972546f463d",
       "version_major": 2,
       "version_minor": 0
      },
      "text/plain": [
       "HBox(children=(IntProgress(value=0), HTML(value='')))"
      ]
     },
     "metadata": {},
     "output_type": "display_data"
    },
    {
     "name": "stdout",
     "output_type": "stream",
     "text": [
      "\n"
     ]
    }
   ],
   "source": [
    "line_search_options = {'method': 'Wolfe'}\n",
    "run_rbfgs_experiment(\n",
    "    oracle, x_0, mat_distr=CustomDiscrete(U / sigma_diag), \n",
    "    sketch_sizes=[1, 5, 20, 100], max_iter=100, \n",
    "    output_file='./results/hilbert_matrix/rbfgs_svd_linesearch={}_size={}.pkl'\\\n",
    "                .format(line_search_options['method'], mat_size), \n",
    "    random_state=1\n",
    ")"
   ]
  },
  {
   "cell_type": "code",
   "execution_count": 35,
   "metadata": {},
   "outputs": [
    {
     "data": {
      "application/vnd.jupyter.widget-view+json": {
       "model_id": "3894e3ba12e44ff4890d09194c10422c",
       "version_major": 2,
       "version_minor": 0
      },
      "text/plain": [
       "HBox(children=(IntProgress(value=0, max=1000), HTML(value='')))"
      ]
     },
     "metadata": {},
     "output_type": "display_data"
    },
    {
     "name": "stdout",
     "output_type": "stream",
     "text": [
      "\n",
      "CPU times: user 50 s, sys: 1.16 s, total: 51.2 s\n",
      "Wall time: 1.62 s\n"
     ]
    }
   ],
   "source": [
    "%%time\n",
    "np.random.seed(42)\n",
    "x_0 = np.random.normal(loc=0., scale=1., size=mat_size)\n",
    "\n",
    "s_distr = CustomDiscrete(U / sigma_diag, size=1)\n",
    "res = run_rbfgs_experiment(\n",
    "    oracle, x_0, s_distr, \n",
    "    max_iter=1000\n",
    ")"
   ]
  },
  {
   "cell_type": "code",
   "execution_count": 37,
   "metadata": {},
   "outputs": [
    {
     "data": {
      "text/plain": [
       "[-1.574677083385125e+99,\n",
       " -1.574677083385125e+99,\n",
       " -1.574677083385125e+99,\n",
       " -1.574677083385125e+99,\n",
       " -1.574677083385125e+99]"
      ]
     },
     "execution_count": 37,
     "metadata": {},
     "output_type": "execute_result"
    }
   ],
   "source": [
    "res.hist['func'][-5:]"
   ]
  },
  {
   "cell_type": "code",
   "execution_count": null,
   "metadata": {},
   "outputs": [],
   "source": []
  },
  {
   "cell_type": "code",
   "execution_count": 15,
   "metadata": {},
   "outputs": [],
   "source": [
    "with open('./results/hilbert_matrix/rbfgs_svd_Wolfe_size=100.pkl', 'rb') as file:\n",
    "    res = pickle.load(file)"
   ]
  },
  {
   "cell_type": "code",
   "execution_count": 11,
   "metadata": {
    "collapsed": true,
    "jupyter": {
     "outputs_hidden": true
    }
   },
   "outputs": [
    {
     "data": {
      "text/plain": [
       "{'mat': array([[-2.44249404e-01,  7.70937497e-01,  2.10494337e+00, ...,\n",
       "         -2.22245435e+07,  5.89807375e+06, -8.37796649e+07],\n",
       "        [-1.62877986e-01,  2.60407084e-01, -8.25233612e-01, ...,\n",
       "          3.08684874e+09, -9.28587231e+08,  1.19069444e+10],\n",
       "        [-1.28975594e-01,  8.96375775e-02, -1.27080339e+00, ...,\n",
       "         -1.05408245e+11,  3.43830907e+10, -4.13380480e+11],\n",
       "        ...,\n",
       "        [-1.19389987e-02, -6.11696884e-02,  3.20749571e-01, ...,\n",
       "         -1.73701966e+14,  4.83466981e+14,  4.34455210e+14],\n",
       "        [-1.18381358e-02, -6.07563722e-02,  3.19795344e-01, ...,\n",
       "         -1.11716374e+15, -9.13274123e+14, -2.27797589e+13],\n",
       "        [-1.17390135e-02, -6.03486086e-02,  3.18833981e-01, ...,\n",
       "          8.43522640e+14,  1.23979349e+14,  2.07074263e+13]]),\n",
       " 'probs': array([0.01, 0.01, 0.01, 0.01, 0.01, 0.01, 0.01, 0.01, 0.01, 0.01, 0.01,\n",
       "        0.01, 0.01, 0.01, 0.01, 0.01, 0.01, 0.01, 0.01, 0.01, 0.01, 0.01,\n",
       "        0.01, 0.01, 0.01, 0.01, 0.01, 0.01, 0.01, 0.01, 0.01, 0.01, 0.01,\n",
       "        0.01, 0.01, 0.01, 0.01, 0.01, 0.01, 0.01, 0.01, 0.01, 0.01, 0.01,\n",
       "        0.01, 0.01, 0.01, 0.01, 0.01, 0.01, 0.01, 0.01, 0.01, 0.01, 0.01,\n",
       "        0.01, 0.01, 0.01, 0.01, 0.01, 0.01, 0.01, 0.01, 0.01, 0.01, 0.01,\n",
       "        0.01, 0.01, 0.01, 0.01, 0.01, 0.01, 0.01, 0.01, 0.01, 0.01, 0.01,\n",
       "        0.01, 0.01, 0.01, 0.01, 0.01, 0.01, 0.01, 0.01, 0.01, 0.01, 0.01,\n",
       "        0.01, 0.01, 0.01, 0.01, 0.01, 0.01, 0.01, 0.01, 0.01, 0.01, 0.01,\n",
       "        0.01]),\n",
       " 'size': 1,\n",
       " 'ids': array([ 0,  1,  2,  3,  4,  5,  6,  7,  8,  9, 10, 11, 12, 13, 14, 15, 16,\n",
       "        17, 18, 19, 20, 21, 22, 23, 24, 25, 26, 27, 28, 29, 30, 31, 32, 33,\n",
       "        34, 35, 36, 37, 38, 39, 40, 41, 42, 43, 44, 45, 46, 47, 48, 49, 50,\n",
       "        51, 52, 53, 54, 55, 56, 57, 58, 59, 60, 61, 62, 63, 64, 65, 66, 67,\n",
       "        68, 69, 70, 71, 72, 73, 74, 75, 76, 77, 78, 79, 80, 81, 82, 83, 84,\n",
       "        85, 86, 87, 88, 89, 90, 91, 92, 93, 94, 95, 96, 97, 98, 99])}"
      ]
     },
     "execution_count": 11,
     "metadata": {},
     "output_type": "execute_result"
    }
   ],
   "source": [
    "res[1].s_distr.__dict__"
   ]
  },
  {
   "cell_type": "code",
   "execution_count": null,
   "metadata": {},
   "outputs": [],
   "source": []
  },
  {
   "cell_type": "code",
   "execution_count": 20,
   "metadata": {
    "collapsed": true,
    "jupyter": {
     "outputs_hidden": true
    }
   },
   "outputs": [
    {
     "data": {
      "text/plain": [
       "[<matplotlib.lines.Line2D at 0x7fb1080aed90>]"
      ]
     },
     "execution_count": 20,
     "metadata": {},
     "output_type": "execute_result"
    },
    {
     "data": {
      "image/png": "[encoded data removed]",
      "text/plain": [
       "<Figure size 864x576 with 1 Axes>"
      ]
     },
     "metadata": {
      "needs_background": "light"
     },
     "output_type": "display_data"
    }
   ],
   "source": [
    "plt.plot(res[1].hist['func'])"
   ]
  },
  {
   "cell_type": "code",
   "execution_count": null,
   "metadata": {},
   "outputs": [],
   "source": []
  },
  {
   "cell_type": "markdown",
   "metadata": {},
   "source": [
    "**RBFGS, SVD-sketch, constant stepsize**"
   ]
  },
  {
   "cell_type": "code",
   "execution_count": 7,
   "metadata": {},
   "outputs": [
    {
     "data": {
      "application/vnd.jupyter.widget-view+json": {
       "model_id": "c1019fa1c2ca447390485b62ee175f54",
       "version_major": 2,
       "version_minor": 0
      },
      "text/plain": [
       "HBox(children=(IntProgress(value=0), HTML(value='')))"
      ]
     },
     "metadata": {},
     "output_type": "display_data"
    },
    {
     "name": "stdout",
     "output_type": "stream",
     "text": [
      "\n",
      "CPU times: user 2.25 s, sys: 73.7 ms, total: 2.33 s\n",
      "Wall time: 75.6 ms\n"
     ]
    }
   ],
   "source": [
    "%%time\n",
    "np.random.seed(42)\n",
    "x_0 = np.random.normal(loc=0., scale=1., size=mat_size)\n",
    "\n",
    "U, sigma_diag, Vh = scipy.linalg.svd(A.T, full_matrices=False)\n",
    "s_distr = CustomDiscrete(U / sigma_diag)\n",
    "rbfgs_svd_const_step = RBFGS(oracle, x_0, s_distr, \n",
    "                             line_search_options={'method': 'Constant'})\n",
    "rbfgs_svd_const_step.run(100)"
   ]
  },
  {
   "cell_type": "code",
   "execution_count": 14,
   "metadata": {},
   "outputs": [],
   "source": [
    "rbfgs_svd_const_step.oracle = None\n",
    "with open('./results/hilbert_matrix/rbfgs_svd_const_step.pkl', 'wb') as file:\n",
    "    pickle.dump(rbfgs_svd_const_step, file)"
   ]
  },
  {
   "cell_type": "markdown",
   "metadata": {},
   "source": [
    "**Nesterov with const momentum**"
   ]
  },
  {
   "cell_type": "code",
   "execution_count": 6,
   "metadata": {},
   "outputs": [
    {
     "data": {
      "application/vnd.jupyter.widget-view+json": {
       "model_id": "91204d5f530a416e87f4967e87e77e60",
       "version_major": 2,
       "version_minor": 0
      },
      "text/plain": [
       "HBox(children=(IntProgress(value=0, max=1000), HTML(value='')))"
      ]
     },
     "metadata": {},
     "output_type": "display_data"
    },
    {
     "name": "stdout",
     "output_type": "stream",
     "text": [
      "CPU times: user 7min 1s, sys: 2.18 s, total: 7min 3s\n",
      "Wall time: 13.2 s\n"
     ]
    }
   ],
   "source": [
    "%%time\n",
    "np.random.seed(42)\n",
    "x_0 = np.random.normal(loc=0., scale=1., size=mat_size)\n",
    "tolerance = 1e-8\n",
    "tolerance /= npla.norm(oracle.grad(x_0))**2\n",
    "\n",
    "nesterov = Nesterov(oracle, x_0, stepsize=0.1, momentum=0.99, tolerance=tolerance)\n",
    "nesterov.run(1000)"
   ]
  },
  {
   "cell_type": "code",
   "execution_count": 7,
   "metadata": {},
   "outputs": [],
   "source": [
    "nesterov.oracle = None\n",
    "with open('./results/hilbert_matrix/nesterov.pkl', 'wb') as file:\n",
    "    pickle.dump(nesterov, file)"
   ]
  },
  {
   "cell_type": "markdown",
   "metadata": {},
   "source": [
    "**Usual BFGS**"
   ]
  },
  {
   "cell_type": "code",
   "execution_count": 8,
   "metadata": {},
   "outputs": [
    {
     "data": {
      "application/vnd.jupyter.widget-view+json": {
       "model_id": "f20aeb4d9c5345a180547c3c8165de29",
       "version_major": 2,
       "version_minor": 0
      },
      "text/plain": [
       "HBox(children=(IntProgress(value=0), HTML(value='')))"
      ]
     },
     "metadata": {},
     "output_type": "display_data"
    },
    {
     "name": "stdout",
     "output_type": "stream",
     "text": [
      "Run interrupted at iter #10\n",
      "CPU times: user 5min 43s, sys: 19.1 s, total: 6min 2s\n",
      "Wall time: 18.3 s\n"
     ]
    }
   ],
   "source": [
    "%%time\n",
    "np.random.seed(42)\n",
    "x_0 = np.random.normal(loc=0., scale=1., size=mat_size)\n",
    "\n",
    "bfgs = BFGS(oracle, x_0, line_search_options={'method': 'Constant'})\n",
    "bfgs.run(100)"
   ]
  },
  {
   "cell_type": "code",
   "execution_count": 16,
   "metadata": {},
   "outputs": [],
   "source": [
    "bfgs.oracle = None\n",
    "with open('./results/hilbert_matrix/bfgs_const_step.pkl', 'wb') as file:\n",
    "    pickle.dump(bfgs, file)"
   ]
  },
  {
   "cell_type": "markdown",
   "metadata": {},
   "source": [
    "### Plots"
   ]
  },
  {
   "cell_type": "code",
   "execution_count": 10,
   "metadata": {},
   "outputs": [],
   "source": [
    "with open('./results/hilbert_matrix/rbfgs_svd.pkl', 'rb') as file:\n",
    "    rbfgs_svd = pickle.load(file)\n",
    "with open('./results/hilbert_matrix/rbfgs_svd_const_step.pkl', 'rb') as file:\n",
    "    rbfgs_svd_const_step = pickle.load(file)\n",
    "with open('./results/hilbert_matrix/nesterov.pkl', 'rb') as file:\n",
    "    nesterov = pickle.load(file)\n",
    "with open('./results/hilbert_matrix/bfgs_const_step.pkl', 'rb') as file:\n",
    "    bfgs = pickle.load(file)"
   ]
  },
  {
   "cell_type": "code",
   "execution_count": 18,
   "metadata": {},
   "outputs": [
    {
     "data": {
      "text/plain": [
       "<matplotlib.legend.Legend at 0x7f1506043d10>"
      ]
     },
     "execution_count": 18,
     "metadata": {},
     "output_type": "execute_result"
    },
    {
     "data": {
      "image/png": "[encoded data removed]",
      "text/plain": [
       "<Figure size 864x576 with 1 Axes>"
      ]
     },
     "metadata": {
      "needs_background": "light"
     },
     "output_type": "display_data"
    }
   ],
   "source": [
    "# plt.plot(np.log(nesterov.hist['func']), label='Nesterov')\n",
    "plt.plot(np.log(rbfgs_svd.hist['func']), label='RBFGS-Wolfe')\n",
    "plt.plot(np.log(rbfgs_svd_const_step.hist['func']), label='RBFGS-Constant')\n",
    "plt.plot(np.log(bfgs.hist['func']), label='BFGS-Constant')\n",
    "plt.legend()"
   ]
  },
  {
   "cell_type": "code",
   "execution_count": null,
   "metadata": {},
   "outputs": [],
   "source": []
  }
 ],
 "metadata": {
  "kernelspec": {
   "display_name": "Python 3",
   "language": "python",
   "name": "python3"
  },
  "language_info": {
   "codemirror_mode": {
    "name": "ipython",
    "version": 3
   },
   "file_extension": ".py",
   "mimetype": "text/x-python",
   "name": "python",
   "nbconvert_exporter": "python",
   "pygments_lexer": "ipython3",
   "version": "3.7.4"
  }
 },
 "nbformat": 4,
 "nbformat_minor": 4
}
