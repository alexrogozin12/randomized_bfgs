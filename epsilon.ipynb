{
 "cells": [
  {
   "cell_type": "code",
   "execution_count": 1,
   "metadata": {},
   "outputs": [],
   "source": [
    "import numpy as np\n",
    "import numpy.linalg as npla\n",
    "import scipy\n",
    "import scipy.linalg as sla\n",
    "import pickle\n",
    "import os\n",
    "from sklearn.datasets import load_svmlight_file\n",
    "\n",
    "from methods import GradientDescent, Newton, Nesterov, RBFGS, LBFGS, BFGS\n",
    "from methods.rbfgs import Uniform, Gaussian, CustomDiscrete, ConstantDistribution, \\\n",
    "                          MatrixDistribution\n",
    "from oracles import LogRegL2Oracle, create_log_reg_oracle, QuadraticOracle\n",
    "from utils import select_basis_columns, run_rbfgs_experiment, run_all_methods"
   ]
  },
  {
   "cell_type": "code",
   "execution_count": 2,
   "metadata": {},
   "outputs": [
    {
     "name": "stdout",
     "output_type": "stream",
     "text": [
      "(n, d) = (400000, 2000)\n",
      "density = 1.0\n",
      "CPU times: user 4min 25s, sys: 8.84 s, total: 4min 33s\n",
      "Wall time: 4min 34s\n"
     ]
    }
   ],
   "source": [
    "%%time\n",
    "file = './datasets/epsilon_normalized'\n",
    "A, b = load_svmlight_file(file, n_features=None)\n",
    "print('(n, d) = {}'.format(A.shape))\n",
    "print('density = {}'.format(A.count_nonzero() / (A.shape[0] * A.shape[1])))"
   ]
  },
  {
   "cell_type": "code",
   "execution_count": 5,
   "metadata": {},
   "outputs": [],
   "source": [
    "A = A.toarray()"
   ]
  },
  {
   "cell_type": "code",
   "execution_count": 6,
   "metadata": {},
   "outputs": [
    {
     "name": "stdout",
     "output_type": "stream",
     "text": [
      "Smoothness based on row norms: 0.2500000724660884\n"
     ]
    }
   ],
   "source": [
    "print('Smoothness based on row norms: {}'.format(np.max(npla.norm(A, axis=1))**2 / 4.))"
   ]
  },
  {
   "cell_type": "code",
   "execution_count": 31,
   "metadata": {},
   "outputs": [],
   "source": [
    "sketch_sizes = [200]\n",
    "def experiment_epsilon(regcoef):\n",
    "    oracle = create_log_reg_oracle(A, b, regcoef)\n",
    "    run_all_methods(\n",
    "        oracle=oracle, \n",
    "        sketch_sizes=sketch_sizes, \n",
    "        max_iter=300, \n",
    "        mat=A, \n",
    "        output_folder='./results/epsilon/regcoef={:.2e}'.format(regcoef), \n",
    "        sigma_tolerance=1e-8, \n",
    "        method_tolerance=1e-16, \n",
    "        stopping_criteria='grad_abs', \n",
    "        random_state=0, \n",
    "        methods=['gauss', 'coord', 'bfgs', 'nesterov'], \n",
    "        overwrite=False\n",
    "    )"
   ]
  },
  {
   "cell_type": "code",
   "execution_count": 32,
   "metadata": {},
   "outputs": [
    {
     "name": "stdout",
     "output_type": "stream",
     "text": [
      "RBFGS-gauss... Done\n",
      "RBFGS-coord...Done\n",
      "BFGS... Done\n",
      "\n",
      "All runs completed.\n",
      "CPU times: user 33min 15s, sys: 4min 43s, total: 37min 58s\n",
      "Wall time: 1min 10s\n"
     ]
    }
   ],
   "source": [
    "%%time\n",
    "experiment_epsilon(1e-4)"
   ]
  },
  {
   "cell_type": "markdown",
   "metadata": {},
   "source": [
    "### BFGS"
   ]
  },
  {
   "cell_type": "code",
   "execution_count": 29,
   "metadata": {},
   "outputs": [
    {
     "name": "stdout",
     "output_type": "stream",
     "text": [
      "CPU times: user 1h 46min 7s, sys: 46.5 s, total: 1h 46min 54s\n",
      "Wall time: 3min 20s\n"
     ]
    }
   ],
   "source": [
    "%%time\n",
    "np.random.seed(42)\n",
    "oracle = create_log_reg_oracle(A, b, regcoef)\n",
    "x_0 = np.random.normal(size=A.shape[1])\n",
    "output_folder = './results/epsilon/regcoef={:.2e}'.format(regcoef)\n",
    "method = BFGS(oracle, x_0, stopping_criteria='grad_abs', \n",
    "              tolerance=1e-16)\n",
    "method.run(max_iter=50000, max_time=200)\n",
    "method.oracle = None\n",
    "with open('{}/bfgs.pkl'.format(output_folder), 'wb') as file:\n",
    "    pickle.dump(method, file)"
   ]
  },
  {
   "cell_type": "markdown",
   "metadata": {},
   "source": [
    "### Nesterov"
   ]
  },
  {
   "cell_type": "code",
   "execution_count": 30,
   "metadata": {},
   "outputs": [
    {
     "name": "stdout",
     "output_type": "stream",
     "text": [
      "CPU times: user 1h 45min 34s, sys: 1min 24s, total: 1h 46min 59s\n",
      "Wall time: 3min 21s\n"
     ]
    }
   ],
   "source": [
    "%%time\n",
    "np.random.seed(42)\n",
    "oracle = create_log_reg_oracle(A, b, regcoef)\n",
    "x_0 = np.random.normal(size=A.shape[1])\n",
    "output_folder = './results/epsilon/regcoef={:.2e}'.format(regcoef)\n",
    "method = Nesterov(oracle, x_0, stopping_criteria='grad_abs', \n",
    "                  tolerance=1e-16)\n",
    "method.run(max_iter=500000, max_time=200)\n",
    "method.oracle = None\n",
    "with open('{}/nesterov.pkl'.format(output_folder), 'wb') as file:\n",
    "    pickle.dump(method, file)"
   ]
  },
  {
   "cell_type": "markdown",
   "metadata": {},
   "source": [
    "### Solve logreg"
   ]
  },
  {
   "cell_type": "code",
   "execution_count": 18,
   "metadata": {},
   "outputs": [],
   "source": [
    "from methods import LBFGS\n",
    "from tqdm import tqdm_notebook"
   ]
  },
  {
   "cell_type": "code",
   "execution_count": 24,
   "metadata": {},
   "outputs": [],
   "source": [
    "def solve_logreg(A, b, regcoef, dataset_name, tolerance=1e-16):\n",
    "    import os\n",
    "    import pickle\n",
    "    os.system('mkdir -p ./logreg_solutions/{}'.format(dataset_name))\n",
    "    \n",
    "    oracle = create_log_reg_oracle(A, b, regcoef)\n",
    "    method = LBFGS(oracle, x_0, tolerance=tolerance, stopping_criteria='grad_abs', \n",
    "                   memory_size=10, line_search_options={'method': 'Wolfe'})\n",
    "    method.run(10000)\n",
    "\n",
    "    with open('./logreg_solutions/{}/regcoef={:.2e}'\\\n",
    "              .format(dataset_name, regcoef), 'wb') as file:\n",
    "        pickle.dump({'x_star': method.hist['x_star'], \n",
    "                     'func_star': method.hist['func'][-1]}, file)"
   ]
  },
  {
   "cell_type": "code",
   "execution_count": 20,
   "metadata": {},
   "outputs": [],
   "source": [
    "x_0 = np.zeros((A.shape[1]))"
   ]
  },
  {
   "cell_type": "code",
   "execution_count": 25,
   "metadata": {},
   "outputs": [
    {
     "data": {
      "application/vnd.jupyter.widget-view+json": {
       "model_id": "a549b9dd1d874076a0cedc7128e28b40",
       "version_major": 2,
       "version_minor": 0
      },
      "text/plain": [
       "HBox(children=(IntProgress(value=0, max=1), HTML(value='')))"
      ]
     },
     "metadata": {},
     "output_type": "display_data"
    },
    {
     "name": "stdout",
     "output_type": "stream",
     "text": [
      "\n",
      "CPU times: user 20min 5s, sys: 9.54 s, total: 20min 14s\n",
      "Wall time: 38.5 s\n"
     ]
    }
   ],
   "source": [
    "%%time\n",
    "for regcoef in tqdm_notebook([1e-4]):\n",
    "    solve_logreg(A, b, regcoef, 'epsilon')"
   ]
  },
  {
   "cell_type": "code",
   "execution_count": null,
   "metadata": {},
   "outputs": [],
   "source": []
  }
 ],
 "metadata": {
  "kernelspec": {
   "display_name": "Python 3",
   "language": "python",
   "name": "python3"
  },
  "language_info": {
   "codemirror_mode": {
    "name": "ipython",
    "version": 3
   },
   "file_extension": ".py",
   "mimetype": "text/x-python",
   "name": "python",
   "nbconvert_exporter": "python",
   "pygments_lexer": "ipython3",
   "version": "3.7.4"
  }
 },
 "nbformat": 4,
 "nbformat_minor": 4
}
