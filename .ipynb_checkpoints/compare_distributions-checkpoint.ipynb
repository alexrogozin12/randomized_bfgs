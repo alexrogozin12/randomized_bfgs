{
 "cells": [
  {
   "cell_type": "code",
   "execution_count": 1,
   "metadata": {},
   "outputs": [
    {
     "name": "stdout",
     "output_type": "stream",
     "text": [
      "Populating the interactive namespace from numpy and matplotlib\n"
     ]
    }
   ],
   "source": [
    "%pylab inline\n",
    "import numpy as np\n",
    "import pickle\n",
    "import scipy\n",
    "from copy import copy\n",
    "from methods import GradientDescent, Newton, RBFGS, LBFGS\n",
    "from methods.rbfgs import Uniform, Identity, CustomDiscrete, Gaussian\n",
    "from oracles import LogRegL2Oracle, create_log_reg_oracle\n",
    "from sklearn.datasets import load_svmlight_file\n",
    "from tqdm import tqdm_notebook"
   ]
  },
  {
   "cell_type": "markdown",
   "metadata": {},
   "source": [
    "### gisette-scale"
   ]
  },
  {
   "cell_type": "code",
   "execution_count": 2,
   "metadata": {},
   "outputs": [
    {
     "name": "stdout",
     "output_type": "stream",
     "text": [
      "(6000, 5000)\n"
     ]
    }
   ],
   "source": [
    "file = './datasets/gisette_scale'\n",
    "A, b = load_svmlight_file(file, n_features=None)\n",
    "A = A.toarray()\n",
    "regcoef = 1 / b.size\n",
    "oracle = create_log_reg_oracle(A, b, 1 / b.size)\n",
    "print(A.shape)"
   ]
  },
  {
   "cell_type": "code",
   "execution_count": 3,
   "metadata": {},
   "outputs": [
    {
     "name": "stdout",
     "output_type": "stream",
     "text": [
      "||x_star||_2 = 5.641783290428837\n"
     ]
    }
   ],
   "source": [
    "with open('logreg_solutions/gisette_scale_regcoef_1\\m', 'rb') as file:\n",
    "    x_star = pickle.load(file)['x_star']\n",
    "print('||x_star||_2 = {}'.format(np.linalg.norm(x_star)))"
   ]
  },
  {
   "cell_type": "code",
   "execution_count": 4,
   "metadata": {},
   "outputs": [
    {
     "name": "stdout",
     "output_type": "stream",
     "text": [
      "0.7045583142855756\n",
      "0.00024562535609519605\n"
     ]
    }
   ],
   "source": [
    "np.random.seed(42)\n",
    "x_0 = x_star + 0.01 * np.random.standard_normal(size=A.shape[1])\n",
    "print(np.linalg.norm(x_0 - x_star))\n",
    "print(oracle.func(x_0) - oracle.func(x_star))"
   ]
  },
  {
   "cell_type": "markdown",
   "metadata": {},
   "source": [
    "**Uniform**"
   ]
  },
  {
   "cell_type": "code",
   "execution_count": 10,
   "metadata": {},
   "outputs": [
    {
     "data": {
      "application/vnd.jupyter.widget-view+json": {
       "model_id": "539a81b913e34affae52cb5b38a79a52",
       "version_major": 2,
       "version_minor": 0
      },
      "text/plain": [
       "HBox(children=(IntProgress(value=0, max=7), HTML(value='')))"
      ]
     },
     "metadata": {},
     "output_type": "display_data"
    },
    {
     "data": {
      "application/vnd.jupyter.widget-view+json": {
       "model_id": "3bac607a6dac4816b3f72b4b88612644",
       "version_major": 2,
       "version_minor": 0
      },
      "text/plain": [
       "HBox(children=(IntProgress(value=0, max=500), HTML(value='')))"
      ]
     },
     "metadata": {},
     "output_type": "display_data"
    },
    {
     "name": "stdout",
     "output_type": "stream",
     "text": [
      "\n"
     ]
    },
    {
     "data": {
      "application/vnd.jupyter.widget-view+json": {
       "model_id": "733a966205cc4eb2a2609b6d4f51b774",
       "version_major": 2,
       "version_minor": 0
      },
      "text/plain": [
       "HBox(children=(IntProgress(value=0, max=500), HTML(value='')))"
      ]
     },
     "metadata": {},
     "output_type": "display_data"
    },
    {
     "name": "stdout",
     "output_type": "stream",
     "text": [
      "\n"
     ]
    },
    {
     "data": {
      "application/vnd.jupyter.widget-view+json": {
       "model_id": "873993549a70494e93ab4582439f4a57",
       "version_major": 2,
       "version_minor": 0
      },
      "text/plain": [
       "HBox(children=(IntProgress(value=0, max=500), HTML(value='')))"
      ]
     },
     "metadata": {},
     "output_type": "display_data"
    },
    {
     "name": "stdout",
     "output_type": "stream",
     "text": [
      "\n"
     ]
    },
    {
     "data": {
      "application/vnd.jupyter.widget-view+json": {
       "model_id": "4f2a0d768412409ea0288399ce0a1803",
       "version_major": 2,
       "version_minor": 0
      },
      "text/plain": [
       "HBox(children=(IntProgress(value=0, max=500), HTML(value='')))"
      ]
     },
     "metadata": {},
     "output_type": "display_data"
    },
    {
     "data": {
      "application/vnd.jupyter.widget-view+json": {
       "model_id": "a72bb3440eb44e849568315393618852",
       "version_major": 2,
       "version_minor": 0
      },
      "text/plain": [
       "HBox(children=(IntProgress(value=0, max=500), HTML(value='')))"
      ]
     },
     "metadata": {},
     "output_type": "display_data"
    },
    {
     "data": {
      "application/vnd.jupyter.widget-view+json": {
       "model_id": "4235657eb4d8427199f0e623839cfdc5",
       "version_major": 2,
       "version_minor": 0
      },
      "text/plain": [
       "HBox(children=(IntProgress(value=0, max=500), HTML(value='')))"
      ]
     },
     "metadata": {},
     "output_type": "display_data"
    },
    {
     "data": {
      "application/vnd.jupyter.widget-view+json": {
       "model_id": "ed051c14442c46f68477fe28004156c1",
       "version_major": 2,
       "version_minor": 0
      },
      "text/plain": [
       "HBox(children=(IntProgress(value=0, max=500), HTML(value='')))"
      ]
     },
     "metadata": {},
     "output_type": "display_data"
    },
    {
     "name": "stdout",
     "output_type": "stream",
     "text": [
      "\n"
     ]
    }
   ],
   "source": [
    "np.random.seed(42)\n",
    "x_0 = np.zeros(A.shape[1])\n",
    "rbfgs_uni_results = dict()\n",
    "line_search_options = {'method': 'Constant', 'c': 1.}\n",
    "for size in tqdm_notebook([1, 4, 16, 64, 256, 1024, 3000]):\n",
    "    s_distr = Uniform(-1., 1., (x_0.shape[0], size))\n",
    "    rbfgs_uni = RBFGS(oracle, x_0, s_distr, tolerance=1e-10, \n",
    "                      line_search_options=line_search_options)\n",
    "    rbfgs_uni.run(500)\n",
    "    rbfgs_uni.hist['regcoef'] = regcoef\n",
    "    rbfgs_uni.oracle = None\n",
    "    rbfgs_uni_results[size] = rbfgs_uni"
   ]
  },
  {
   "cell_type": "code",
   "execution_count": 11,
   "metadata": {},
   "outputs": [],
   "source": [
    "filename = './results/gisette/rbfgs_uni_const-stepsize_regcoef={:.2e}.pkl'.format(regcoef)\n",
    "with open(filename, 'wb') as file:\n",
    "    pickle.dump(rbfgs_uni_results, file)"
   ]
  },
  {
   "cell_type": "markdown",
   "metadata": {},
   "source": [
    "**SVD sketch** "
   ]
  },
  {
   "cell_type": "code",
   "execution_count": null,
   "metadata": {},
   "outputs": [
    {
     "data": {
      "application/vnd.jupyter.widget-view+json": {
       "model_id": "a92e4c68456f4c58ada6345800598fb6",
       "version_major": 2,
       "version_minor": 0
      },
      "text/plain": [
       "HBox(children=(IntProgress(value=0, max=7), HTML(value='')))"
      ]
     },
     "metadata": {},
     "output_type": "display_data"
    },
    {
     "data": {
      "application/vnd.jupyter.widget-view+json": {
       "model_id": "59f006c3ed664b89aa0903f58fff7b0d",
       "version_major": 2,
       "version_minor": 0
      },
      "text/plain": [
       "HBox(children=(IntProgress(value=0, max=500), HTML(value='')))"
      ]
     },
     "metadata": {},
     "output_type": "display_data"
    },
    {
     "name": "stdout",
     "output_type": "stream",
     "text": [
      "\n"
     ]
    },
    {
     "data": {
      "application/vnd.jupyter.widget-view+json": {
       "model_id": "25b409b65f8d4f4a852475986b3a9b37",
       "version_major": 2,
       "version_minor": 0
      },
      "text/plain": [
       "HBox(children=(IntProgress(value=0, max=500), HTML(value='')))"
      ]
     },
     "metadata": {},
     "output_type": "display_data"
    },
    {
     "name": "stdout",
     "output_type": "stream",
     "text": [
      "\n"
     ]
    },
    {
     "data": {
      "application/vnd.jupyter.widget-view+json": {
       "model_id": "4ecf525796644b6995ceef0f241d694e",
       "version_major": 2,
       "version_minor": 0
      },
      "text/plain": [
       "HBox(children=(IntProgress(value=0, max=500), HTML(value='')))"
      ]
     },
     "metadata": {},
     "output_type": "display_data"
    },
    {
     "name": "stdout",
     "output_type": "stream",
     "text": [
      "\n"
     ]
    },
    {
     "data": {
      "application/vnd.jupyter.widget-view+json": {
       "model_id": "55e8d950c2384547a4958230d443f847",
       "version_major": 2,
       "version_minor": 0
      },
      "text/plain": [
       "HBox(children=(IntProgress(value=0, max=500), HTML(value='')))"
      ]
     },
     "metadata": {},
     "output_type": "display_data"
    },
    {
     "name": "stdout",
     "output_type": "stream",
     "text": [
      "\n"
     ]
    },
    {
     "data": {
      "application/vnd.jupyter.widget-view+json": {
       "model_id": "8ddaa0a130d0404c85abe27d8e28150b",
       "version_major": 2,
       "version_minor": 0
      },
      "text/plain": [
       "HBox(children=(IntProgress(value=0, max=500), HTML(value='')))"
      ]
     },
     "metadata": {},
     "output_type": "display_data"
    }
   ],
   "source": [
    "%%time\n",
    "U, sigma_diag, Vh = scipy.linalg.svd(A.T, full_matrices=False)\n",
    "rbfgs_svd_results = dict()\n",
    "\n",
    "for size in tqdm_notebook([1, 4, 16, 64, 256, 1024, 3000]):\n",
    "    s_distr = CustomDiscrete(U / sigma_diag)\n",
    "    rbfgs_svd = RBFGS(oracle, x_0, s_distr, tolerance=1e-10, \n",
    "                      line_search_options=line_search_options)\n",
    "    rbfgs_svd.run(500)\n",
    "    rbfgs_svd.hist['regcoef'] = regcoef\n",
    "    rbfgs_svd.oracle = None\n",
    "    rbfgs_svd_results[size] = rbfgs_svd"
   ]
  },
  {
   "cell_type": "code",
   "execution_count": null,
   "metadata": {},
   "outputs": [],
   "source": [
    "filename = './results/gisette/rbfgs_svd_const-stepsize_regcoef={:.2e}.pkl'.format(regcoef)\n",
    "with open(filename, 'wb') as file:\n",
    "    pickle.dump(rbfgs_svd_results, file)"
   ]
  },
  {
   "cell_type": "markdown",
   "metadata": {},
   "source": [
    "**Gaussian sketch** "
   ]
  },
  {
   "cell_type": "code",
   "execution_count": null,
   "metadata": {},
   "outputs": [],
   "source": [
    "np.random.seed(42)\n",
    "rbfgs_gauss_results = dict()\n",
    "for size in tqdm_notebook([1, 4, 16, 64, 256, 1024, 3000]):\n",
    "    s_distr = Gaussian(0., 1., (x_0.shape[0], size))\n",
    "    rbfgs_gauss = RBFGS(oracle, x_0, s_distr, tolerance=1e-10, \n",
    "                        line_search_options=line_search_options)\n",
    "    rbfgs_gauss.run(500)\n",
    "    rbfgs_gauss.hist['regcoef'] = regcoef\n",
    "    rbfgs_gauss.oracle = None\n",
    "    rbfgs_gauss_results[size] = rbfgs_gauss"
   ]
  },
  {
   "cell_type": "code",
   "execution_count": null,
   "metadata": {},
   "outputs": [],
   "source": [
    "filename = './results/gisette/rbfgs_gauss_const-stepsize_regcoef={:.2e}.pkl'.format(regcoef)\n",
    "with open(filename, 'wb') as file:\n",
    "    pickle.dump(rbfgs_gauss_results, file)"
   ]
  },
  {
   "cell_type": "markdown",
   "metadata": {},
   "source": [
    "# Plots"
   ]
  },
  {
   "cell_type": "code",
   "execution_count": 18,
   "metadata": {},
   "outputs": [],
   "source": [
    "with open('./results/gisette/rbfgs_uni_const-stepsize_regcoef=1.67e-04.pkl', 'rb') as file:\n",
    "    rbfgs_uni_results = pickle.load(file)"
   ]
  },
  {
   "cell_type": "code",
   "execution_count": 128,
   "metadata": {},
   "outputs": [
    {
     "data": {
      "text/plain": [
       "<matplotlib.legend.Legend at 0x7fe2dcdd2e90>"
      ]
     },
     "execution_count": 128,
     "metadata": {},
     "output_type": "execute_result"
    },
    {
     "data": {
      "image/png": "[encoded data removed]",
      "text/plain": [
       "<Figure size 1008x504 with 2 Axes>"
      ]
     },
     "metadata": {
      "needs_background": "light"
     },
     "output_type": "display_data"
    }
   ],
   "source": [
    "plt.figure(figsize=(14, 7))\n",
    "plt.suptitle('Logistic regression, gisette_scale')\n",
    "\n",
    "sizes = [1, 4, 16, 64, 256]\n",
    "sizes = [4]\n",
    "colors = ['k', 'g', 'b', 'r', 'm']\n",
    "results = [rbfgs_uni_results, rbfgs_gauss_results, rbfgs_svd_results]\n",
    "linestyles = ['-', '--', '-.']\n",
    "\n",
    "plt.subplot(121)\n",
    "for size, color in zip(sizes, colors):\n",
    "    for res, linestyle in zip(results, linestyles):\n",
    "        plt.plot(res[size].hist['func'], \n",
    "                 linestyle=linestyle, label='size={}'.format(size), color=color)\n",
    "plt.xlabel('Iteration number')\n",
    "plt.ylabel('Function value')\n",
    "plt.grid()\n",
    "plt.legend()\n",
    "\n",
    "plt.subplot(122)\n",
    "for size, color in zip(sizes, colors):\n",
    "    for res, linestyle in zip(results, linestyles):\n",
    "        plt.plot(res[size].hist['time'], res[size].hist['func'], \n",
    "                 linestyle=linestyle, label='size={}'.format(size), color=color)\n",
    "plt.xlabel('Time')\n",
    "plt.ylabel('Function value')\n",
    "plt.grid()\n",
    "plt.legend()"
   ]
  },
  {
   "cell_type": "markdown",
   "metadata": {},
   "source": [
    "### SVD sketch doesn't work. What about matrix rank?"
   ]
  },
  {
   "cell_type": "code",
   "execution_count": 73,
   "metadata": {},
   "outputs": [
    {
     "name": "stdout",
     "output_type": "stream",
     "text": [
      "Singular values above 1.0e-10: 156\n",
      "Singular values above 1.0e-07: 156\n",
      "Singular values above 1.0e-03: 157\n"
     ]
    }
   ],
   "source": [
    "print('Singular values above {:.1e}: {}'.format(1e-10, np.sum(sigma_diag < 1e-10)))\n",
    "print('Singular values above {:.1e}: {}'.format(1e-7, np.sum(sigma_diag < 1e-7)))\n",
    "print('Singular values above {:.1e}: {}'.format(1e-3, np.sum(sigma_diag < 1e-3)))"
   ]
  },
  {
   "cell_type": "markdown",
   "metadata": {},
   "source": [
    "**Some singular values are below 1e-10**"
   ]
  },
  {
   "cell_type": "code",
   "execution_count": 65,
   "metadata": {},
   "outputs": [
    {
     "data": {
      "text/plain": [
       "45"
      ]
     },
     "execution_count": 65,
     "metadata": {},
     "output_type": "execute_result"
    }
   ],
   "source": [
    "np.nonzero(np.alltrue(A == 0, axis=0))[0].shape[0]"
   ]
  },
  {
   "cell_type": "code",
   "execution_count": null,
   "metadata": {},
   "outputs": [],
   "source": []
  },
  {
   "cell_type": "code",
   "execution_count": 31,
   "metadata": {},
   "outputs": [
    {
     "name": "stdout",
     "output_type": "stream",
     "text": [
      "[array([0.]), array([0.]), array([0.]), array([0.]), array([0.]), array([0.]), array([0.]), array([0.]), array([0.]), array([0.]), array([0.]), array([0.]), array([0.]), array([0.]), array([0.]), array([0.]), array([0.]), array([0.]), array([0.]), array([0.]), array([0.]), array([0.]), array([0.]), array([0.]), array([0.]), array([0.]), array([0.]), array([0.]), array([0.]), array([0.]), array([0.]), array([0.]), array([0.]), array([0.]), array([0.]), array([0.]), array([0.]), array([0.]), array([0.]), array([0.]), array([0.]), array([0.]), array([0.]), array([0.]), array([0.])]\n"
     ]
    }
   ],
   "source": [
    "print([np.unique(A[:, i]) for i in np.nonzero(A.std(axis=0) == 0)[0]])"
   ]
  },
  {
   "cell_type": "markdown",
   "metadata": {},
   "source": [
    "**It has zero columns!**"
   ]
  },
  {
   "cell_type": "code",
   "execution_count": 74,
   "metadata": {},
   "outputs": [],
   "source": [
    "columns = np.array(list(\n",
    "    set(range(A.shape[1])) - set(np.nonzero(A.std(axis=0) == 0)[0])\n",
    "))\n",
    "columns.sort()\n",
    "B = A[:, columns]"
   ]
  },
  {
   "cell_type": "code",
   "execution_count": 93,
   "metadata": {},
   "outputs": [
    {
     "name": "stdout",
     "output_type": "stream",
     "text": [
      "CPU times: user 7min 25s, sys: 3.6 s, total: 7min 29s\n",
      "Wall time: 14.5 s\n"
     ]
    }
   ],
   "source": [
    "%%time\n",
    "U_B, sigma_diag_B, Vh_B = scipy.linalg.svd(B.T, full_matrices=False)"
   ]
  },
  {
   "cell_type": "code",
   "execution_count": 100,
   "metadata": {},
   "outputs": [
    {
     "data": {
      "text/plain": [
       "True"
      ]
     },
     "execution_count": 100,
     "metadata": {},
     "output_type": "execute_result"
    }
   ],
   "source": [
    "np.allclose((U_B * sigma_diag_B).dot(Vh_B), B.T)"
   ]
  },
  {
   "cell_type": "markdown",
   "metadata": {},
   "source": [
    "**Throw away small eigvals**"
   ]
  },
  {
   "cell_type": "code",
   "execution_count": 110,
   "metadata": {},
   "outputs": [
    {
     "data": {
      "text/plain": [
       "((5000, 5000), (5000, 6000))"
      ]
     },
     "execution_count": 110,
     "metadata": {},
     "output_type": "execute_result"
    }
   ],
   "source": [
    "U.shape, Vh.shape"
   ]
  },
  {
   "cell_type": "code",
   "execution_count": 108,
   "metadata": {},
   "outputs": [
    {
     "data": {
      "text/plain": [
       "(5000, 4844)"
      ]
     },
     "execution_count": 108,
     "metadata": {},
     "output_type": "execute_result"
    }
   ],
   "source": [
    "U[:, :sigma_diag_nondeg.shape[0]].shape"
   ]
  },
  {
   "cell_type": "code",
   "execution_count": 118,
   "metadata": {},
   "outputs": [
    {
     "name": "stdout",
     "output_type": "stream",
     "text": [
      "4844 eigvals left\n"
     ]
    }
   ],
   "source": [
    "sigma_diag_nondeg = sigma_diag[sigma_diag > 1e-5]\n",
    "nondeg_count = sigma_diag_nondeg.shape[0]\n",
    "print('{} eigvals left'.format(nondeg_count))\n",
    "A_nondeg = (U[:, :nondeg_count] * sigma_diag_nondeg).dot(Vh[:nondeg_count, :]).T"
   ]
  },
  {
   "cell_type": "code",
   "execution_count": 119,
   "metadata": {},
   "outputs": [
    {
     "data": {
      "text/plain": [
       "((6000, 5000), (6000, 5000))"
      ]
     },
     "execution_count": 119,
     "metadata": {},
     "output_type": "execute_result"
    }
   ],
   "source": [
    "A.shape, A_nondeg.shape"
   ]
  },
  {
   "cell_type": "code",
   "execution_count": 123,
   "metadata": {},
   "outputs": [],
   "source": [
    "U_nondeg, sigma_diag_nondeg, Vh_nondeg = scipy.linalg.svd(A_nondeg.T, full_matrices=False)"
   ]
  },
  {
   "cell_type": "code",
   "execution_count": 127,
   "metadata": {},
   "outputs": [
    {
     "data": {
      "text/plain": [
       "156"
      ]
     },
     "execution_count": 127,
     "metadata": {},
     "output_type": "execute_result"
    }
   ],
   "source": [
    "(sigma_diag_nondeg < 1e-5).sum()"
   ]
  },
  {
   "cell_type": "code",
   "execution_count": null,
   "metadata": {},
   "outputs": [],
   "source": []
  }
 ],
 "metadata": {
  "kernelspec": {
   "display_name": "Python 3",
   "language": "python",
   "name": "python3"
  },
  "language_info": {
   "codemirror_mode": {
    "name": "ipython",
    "version": 3
   },
   "file_extension": ".py",
   "mimetype": "text/x-python",
   "name": "python",
   "nbconvert_exporter": "python",
   "pygments_lexer": "ipython3",
   "version": "3.7.4"
  }
 },
 "nbformat": 4,
 "nbformat_minor": 4
}
