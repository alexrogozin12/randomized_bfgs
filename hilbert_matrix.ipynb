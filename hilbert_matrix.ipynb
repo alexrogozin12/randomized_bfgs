{
 "cells": [
  {
   "cell_type": "code",
   "execution_count": 1,
   "metadata": {},
   "outputs": [],
   "source": [
    "import numpy as np\n",
    "import numpy.linalg as npla\n",
    "import scipy\n",
    "import scipy.linalg as sla\n",
    "import pickle\n",
    "import os\n",
    "from sklearn.datasets import load_svmlight_file\n",
    "\n",
    "from methods import GradientDescent, Newton, Nesterov, RBFGS, LBFGS, BFGS\n",
    "from methods.rbfgs import Uniform, Gaussian, CustomDiscrete\n",
    "from oracles import LogRegL2Oracle, create_log_reg_oracle, QuadraticOracle\n",
    "from utils import select_basis_columns, run_rbfgs_experiment, run_nesterov_experiment, run_all_methods"
   ]
  },
  {
   "cell_type": "code",
   "execution_count": 2,
   "metadata": {},
   "outputs": [
    {
     "name": "stdout",
     "output_type": "stream",
     "text": [
      "Read SVD from ./results/hilbert_matrix/size=10/svd.pkl\n",
      "Singular values above tolerance: 7\n",
      "\n",
      "RBFGS-SVD sketch... Done\n",
      "RBFGS-SVD sketch no sigma... Done\n",
      "RBFGS-gauss... Done\n",
      "RBFGS-coord...Done\n",
      "BFGS... Done\n",
      "Nesterov...Done\n",
      "\n",
      "All runs completed.\n",
      "CPU times: user 534 ms, sys: 24.8 ms, total: 559 ms\n",
      "Wall time: 587 ms\n"
     ]
    }
   ],
   "source": [
    "%%time\n",
    "mat_size = 10\n",
    "A = sla.hilbert(mat_size)\n",
    "oracle = QuadraticOracle(A.T.dot(A), np.zeros(mat_size))\n",
    "\n",
    "run_all_methods(\n",
    "    oracle=oracle, \n",
    "    sketch_sizes=[1, 2, 3, 5, 10], \n",
    "    max_iter=1000, \n",
    "    mat=A, \n",
    "    output_folder='./results/hilbert_matrix/size={}'.format(mat_size), \n",
    "    sigma_tolerance=1e-8, \n",
    "    method_tolerance=1e-14, \n",
    "    stopping_criteria='func_abs', \n",
    "    random_state=0\n",
    ")"
   ]
  },
  {
   "cell_type": "code",
   "execution_count": 3,
   "metadata": {},
   "outputs": [
    {
     "name": "stdout",
     "output_type": "stream",
     "text": [
      "Singular values above tolerance: 12\n",
      "\n",
      "RBFGS-SVD sketch... Done\n",
      "RBFGS-gauss... Done\n",
      "RBFGS-coord...Done\n",
      "BFGS... Done\n",
      "Nesterov...Done\n",
      "\n",
      "All runs completed.\n",
      "CPU times: user 18min 45s, sys: 24.7 s, total: 19min 10s\n",
      "Wall time: 36.3 s\n"
     ]
    }
   ],
   "source": [
    "%%time\n",
    "mat_size = 100\n",
    "A = sla.hilbert(mat_size)\n",
    "oracle = QuadraticOracle(A.T.dot(A), np.zeros(mat_size))\n",
    "\n",
    "run_all_methods(\n",
    "    oracle=oracle, \n",
    "    sketch_sizes=[1, 2, 3, 5, 10, 50, 100], \n",
    "    max_iter=1000, \n",
    "    mat=A, \n",
    "    output_folder='./results/hilbert_matrix/size={}'.format(mat_size), \n",
    "    sigma_tolerance=1e-8, \n",
    "    method_tolerance=1e-14, \n",
    "    stopping_criteria='func_abs', \n",
    "    random_state=0\n",
    ")"
   ]
  },
  {
   "cell_type": "code",
   "execution_count": 35,
   "metadata": {},
   "outputs": [
    {
     "name": "stdout",
     "output_type": "stream",
     "text": [
      "Singular values above tolerance: 17\n",
      "\n",
      "RBFGS-SVD sketch... Done\n",
      "RBFGS-gauss... "
     ]
    },
    {
     "name": "stderr",
     "output_type": "stream",
     "text": [
      "/home/rogozia/anaconda3/lib/python3.7/site-packages/scipy/optimize/linesearch.py:466: LineSearchWarning: The line search algorithm did not converge\n",
      "  warn('The line search algorithm did not converge', LineSearchWarning)\n",
      "/home/rogozia/randomized_quasinewton/experiments/oracles/base.py:30: RuntimeWarning: overflow encountered in multiply\n",
      "  return np.squeeze(self.func(x + alpha * d))\n",
      "/home/rogozia/randomized_quasinewton/experiments/methods/rbfgs.py:60: RuntimeWarning: overflow encountered in multiply\n",
      "  x_k_new = self.x_k + alpha_k * d_k\n",
      "/home/rogozia/randomized_quasinewton/experiments/oracles/base.py:30: RuntimeWarning: invalid value encountered in multiply\n",
      "  return np.squeeze(self.func(x + alpha * d))\n",
      "/home/rogozia/randomized_quasinewton/experiments/oracles/base.py:36: RuntimeWarning: invalid value encountered in multiply\n",
      "  return np.squeeze(self.grad(x + alpha * d).dot(d))\n",
      "/home/rogozia/randomized_quasinewton/experiments/oracles/base.py:36: RuntimeWarning: overflow encountered in multiply\n",
      "  return np.squeeze(self.grad(x + alpha * d).dot(d))\n"
     ]
    },
    {
     "name": "stdout",
     "output_type": "stream",
     "text": [
      "Done\n",
      "RBFGS-coord...Done\n",
      "BFGS... "
     ]
    },
    {
     "name": "stderr",
     "output_type": "stream",
     "text": [
      "/home/rogozia/randomized_quasinewton/experiments/methods/bfgs.py:50: RuntimeWarning: divide by zero encountered in true_divide\n",
      "  self.H_k -= self.H_k.dot(self.y_k).dot(self.s_k.T) / den # right multiply\n",
      "/home/rogozia/randomized_quasinewton/experiments/methods/bfgs.py:50: RuntimeWarning: invalid value encountered in true_divide\n",
      "  self.H_k -= self.H_k.dot(self.y_k).dot(self.s_k.T) / den # right multiply\n",
      "/home/rogozia/randomized_quasinewton/experiments/methods/bfgs.py:52: RuntimeWarning: divide by zero encountered in true_divide\n",
      "  self.H_k += self.s_k.dot(self.s_k.T) / den\n",
      "/home/rogozia/randomized_quasinewton/experiments/methods/bfgs.py:52: RuntimeWarning: invalid value encountered in true_divide\n",
      "  self.H_k += self.s_k.dot(self.s_k.T) / den\n"
     ]
    },
    {
     "name": "stdout",
     "output_type": "stream",
     "text": [
      "Done\n",
      "Nesterov...Done\n",
      "\n",
      "All runs completed.\n",
      "CPU times: user 3h 23min 22s, sys: 3min 3s, total: 3h 26min 26s\n",
      "Wall time: 6min 28s\n"
     ]
    }
   ],
   "source": [
    "%%time\n",
    "mat_size = 1000\n",
    "A = sla.hilbert(mat_size)\n",
    "oracle = QuadraticOracle(A.T.dot(A), np.zeros(mat_size))\n",
    "\n",
    "run_all_methods(\n",
    "    oracle=oracle, \n",
    "    sketch_sizes=[1, 2, 3, 5, 10, 50, 100], \n",
    "    max_iter=1000, \n",
    "    mat=A, \n",
    "    output_folder='./results/hilbert_matrix/size={}'.format(mat_size), \n",
    "    sigma_tolerance=1e-8, \n",
    "    method_tolerance=1e-14, \n",
    "    stopping_criteria='func_abs', \n",
    "    random_state=0\n",
    ")"
   ]
  },
  {
   "cell_type": "code",
   "execution_count": 3,
   "metadata": {},
   "outputs": [
    {
     "name": "stdout",
     "output_type": "stream",
     "text": [
      "Computing SVD...Done\n",
      "Singular values above tolerance: 21\n",
      "\n",
      "RBFGS-SVD sketch... Done\n",
      "RBFGS-SVD sketch no sigma... "
     ]
    },
    {
     "name": "stderr",
     "output_type": "stream",
     "text": [
      "/home/rogozia/anaconda3/lib/python3.7/site-packages/scipy/optimize/linesearch.py:466: LineSearchWarning: The line search algorithm did not converge\n",
      "  warn('The line search algorithm did not converge', LineSearchWarning)\n",
      "/home/rogozia/randomized_quasinewton/experiments/oracles/base.py:30: RuntimeWarning: invalid value encountered in multiply\n",
      "  return np.squeeze(self.func(x + alpha * d))\n",
      "/home/rogozia/randomized_quasinewton/experiments/oracles/base.py:36: RuntimeWarning: invalid value encountered in multiply\n",
      "  return np.squeeze(self.grad(x + alpha * d).dot(d))\n"
     ]
    },
    {
     "name": "stdout",
     "output_type": "stream",
     "text": [
      "Done\n",
      "RBFGS-gauss... Done\n",
      "RBFGS-coord...Done\n",
      "BFGS... Done\n",
      "Nesterov...Done\n",
      "\n",
      "All runs completed.\n",
      "CPU times: user 1d 5h 51min 56s, sys: 47min 2s, total: 1d 6h 38min 58s\n",
      "Wall time: 59min\n"
     ]
    }
   ],
   "source": [
    "%%time\n",
    "mat_size = 10000\n",
    "A = sla.hilbert(mat_size)\n",
    "oracle = QuadraticOracle(A.T.dot(A), np.zeros(mat_size))\n",
    "\n",
    "run_all_methods(\n",
    "    oracle=oracle, \n",
    "    sketch_sizes=[1, 2, 3, 5, 10, 50, 100], \n",
    "    max_iter=1000, \n",
    "    mat=A, \n",
    "    output_folder='./results/hilbert_matrix/size={}'.format(mat_size), \n",
    "    sigma_tolerance=1e-8, \n",
    "    method_tolerance=1e-14, \n",
    "    stopping_criteria='func_abs', \n",
    "    random_state=0\n",
    ")"
   ]
  },
  {
   "cell_type": "code",
   "execution_count": null,
   "metadata": {},
   "outputs": [],
   "source": []
  }
 ],
 "metadata": {
  "kernelspec": {
   "display_name": "Python 3",
   "language": "python",
   "name": "python3"
  },
  "language_info": {
   "codemirror_mode": {
    "name": "ipython",
    "version": 3
   },
   "file_extension": ".py",
   "mimetype": "text/x-python",
   "name": "python",
   "nbconvert_exporter": "python",
   "pygments_lexer": "ipython3",
   "version": "3.7.4"
  }
 },
 "nbformat": 4,
 "nbformat_minor": 4
}
