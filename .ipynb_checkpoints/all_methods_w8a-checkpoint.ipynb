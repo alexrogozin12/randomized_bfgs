{
 "cells": [
  {
   "cell_type": "code",
   "execution_count": 7,
   "metadata": {},
   "outputs": [
    {
     "name": "stdout",
     "output_type": "stream",
     "text": [
      "Populating the interactive namespace from numpy and matplotlib\n"
     ]
    }
   ],
   "source": [
    "%pylab inline\n",
    "import numpy as np\n",
    "import scipy\n",
    "from sklearn.datasets import load_svmlight_file\n",
    "\n",
    "from methods import GradientDescent, Newton, RBFGS, LBFGS, BFGS\n",
    "from methods.rbfgs import Uniform, Gaussian, Identity, CustomDiscrete\n",
    "from oracles import LogRegL2Oracle, create_log_reg_oracle\n",
    "from utils import select_basis_columns"
   ]
  },
  {
   "cell_type": "code",
   "execution_count": 8,
   "metadata": {},
   "outputs": [],
   "source": [
    "import matplotlib\n",
    "matplotlib.rcParams['figure.figsize'] = (12, 8)"
   ]
  },
  {
   "cell_type": "code",
   "execution_count": 2,
   "metadata": {},
   "outputs": [],
   "source": [
    "file = './datasets/w8a.txt'\n",
    "A, b = load_svmlight_file(file, n_features=None)\n",
    "regcoef = 1 / b.size\n",
    "x_0 = np.zeros((A.shape[1]))\n",
    "oracle = create_log_reg_oracle(A, b, 1 / b.size)"
   ]
  },
  {
   "cell_type": "code",
   "execution_count": 3,
   "metadata": {},
   "outputs": [],
   "source": [
    "U, sigma_diag, _ = scipy.linalg.svd(A.toarray().T, full_matrices=False)"
   ]
  },
  {
   "cell_type": "code",
   "execution_count": 11,
   "metadata": {},
   "outputs": [
    {
     "data": {
      "application/vnd.jupyter.widget-view+json": {
       "model_id": "61e60a9a02af4bff96f496ddd0adc70b",
       "version_major": 2,
       "version_minor": 0
      },
      "text/plain": [
       "HBox(children=(IntProgress(value=0, max=200), HTML(value='')))"
      ]
     },
     "metadata": {},
     "output_type": "display_data"
    },
    {
     "name": "stdout",
     "output_type": "stream",
     "text": [
      "\n",
      "CPU times: user 1min 22s, sys: 1.64 s, total: 1min 24s\n",
      "Wall time: 2.66 s\n"
     ]
    }
   ],
   "source": [
    "%%time\n",
    "np.random.seed(42)\n",
    "x_0 = np.ones((A.shape[1])) * 0.\n",
    "s_distr = Uniform(0., 1., (x_0.shape[0], 1))\n",
    "# s_distr = CustomDiscrete(U / sigma_diag)\n",
    "\n",
    "rbfgs = RBFGS(oracle, x_0, s_distr, tolerance=1e-8, \n",
    "                  line_search_options={'method': 'Constant', 'c': 1.})\n",
    "rbfgs.run(200)"
   ]
  },
  {
   "cell_type": "code",
   "execution_count": 12,
   "metadata": {},
   "outputs": [
    {
     "data": {
      "application/vnd.jupyter.widget-view+json": {
       "model_id": "285f5c40d06e4b729f3f8d3a743ff69d",
       "version_major": 2,
       "version_minor": 0
      },
      "text/plain": [
       "HBox(children=(IntProgress(value=0), HTML(value='')))"
      ]
     },
     "metadata": {},
     "output_type": "display_data"
    },
    {
     "name": "stdout",
     "output_type": "stream",
     "text": [
      "\n",
      "CPU times: user 1min 13s, sys: 1.88 s, total: 1min 14s\n",
      "Wall time: 2.34 s\n"
     ]
    }
   ],
   "source": [
    "%%time\n",
    "np.random.seed(42)\n",
    "x_0 = np.ones((A.shape[1])) * 0.\n",
    "s_distr = Uniform(0., 1., (x_0.shape[0], 1))\n",
    "# s_distr = CustomDiscrete(U / sigma_diag)\n",
    "\n",
    "rbfgs_wolfe = RBFGS(oracle, x_0, s_distr, tolerance=1e-8, \n",
    "                  line_search_options={'method': 'Wolfe', 'c': 1.})\n",
    "rbfgs_wolfe.run(100)"
   ]
  },
  {
   "cell_type": "code",
   "execution_count": 13,
   "metadata": {},
   "outputs": [
    {
     "data": {
      "text/plain": [
       "<matplotlib.legend.Legend at 0x7f3c29d91a10>"
      ]
     },
     "execution_count": 13,
     "metadata": {},
     "output_type": "execute_result"
    },
    {
     "data": {
      "image/png": "[encoded data removed]",
      "text/plain": [
       "<Figure size 864x576 with 1 Axes>"
      ]
     },
     "metadata": {
      "needs_background": "light"
     },
     "output_type": "display_data"
    }
   ],
   "source": [
    "plt.plot(np.log(rbfgs.hist['func']), label='const stepsize')\n",
    "plt.plot(np.log(rbfgs_wolfe.hist['func']), label='wolfe search')\n",
    "plt.legend()"
   ]
  },
  {
   "cell_type": "code",
   "execution_count": null,
   "metadata": {},
   "outputs": [],
   "source": []
  },
  {
   "cell_type": "code",
   "execution_count": null,
   "metadata": {},
   "outputs": [],
   "source": []
  },
  {
   "cell_type": "markdown",
   "metadata": {},
   "source": [
    "**BFGS**"
   ]
  },
  {
   "cell_type": "code",
   "execution_count": 3,
   "metadata": {},
   "outputs": [
    {
     "data": {
      "application/vnd.jupyter.widget-view+json": {
       "model_id": "243f32995ed54e158e9f2fe27a095168",
       "version_major": 2,
       "version_minor": 0
      },
      "text/plain": [
       "HBox(children=(IntProgress(value=0, max=1000), HTML(value='')))"
      ]
     },
     "metadata": {},
     "output_type": "display_data"
    },
    {
     "name": "stdout",
     "output_type": "stream",
     "text": [
      "CPU times: user 57.2 s, sys: 1.67 s, total: 58.9 s\n",
      "Wall time: 2.11 s\n"
     ]
    }
   ],
   "source": [
    "%%time\n",
    "x_0 = np.zeros((A.shape[1]))\n",
    "bfgs = BFGS(oracle, x_0, tolerance=1e-8)\n",
    "bfgs.run(1000)"
   ]
  },
  {
   "cell_type": "markdown",
   "metadata": {},
   "source": [
    "<!-- **LBFGS** -->"
   ]
  },
  {
   "cell_type": "code",
   "execution_count": 4,
   "metadata": {},
   "outputs": [
    {
     "data": {
      "application/vnd.jupyter.widget-view+json": {
       "model_id": "a32bcdd350b548e8b1b189866df4a1fe",
       "version_major": 2,
       "version_minor": 0
      },
      "text/plain": [
       "HBox(children=(IntProgress(value=0), HTML(value='')))"
      ]
     },
     "metadata": {},
     "output_type": "display_data"
    },
    {
     "name": "stdout",
     "output_type": "stream",
     "text": [
      "CPU times: user 5.83 s, sys: 148 ms, total: 5.97 s\n",
      "Wall time: 601 ms\n"
     ]
    }
   ],
   "source": [
    "%%time\n",
    "x_0 = np.zeros((A.shape[1]))\n",
    "lbfgs_10 = LBFGS(oracle, x_0, tolerance=1e-8, memory_size=10)\n",
    "lbfgs_10.run(100)"
   ]
  },
  {
   "cell_type": "markdown",
   "metadata": {},
   "source": [
    "**R-BFGS uniform single column**"
   ]
  },
  {
   "cell_type": "code",
   "execution_count": 14,
   "metadata": {},
   "outputs": [
    {
     "data": {
      "application/vnd.jupyter.widget-view+json": {
       "model_id": "49f05343fde74ca48885b37c2ece9080",
       "version_major": 2,
       "version_minor": 0
      },
      "text/plain": [
       "HBox(children=(IntProgress(value=0), HTML(value='')))"
      ]
     },
     "metadata": {},
     "output_type": "display_data"
    },
    {
     "name": "stdout",
     "output_type": "stream",
     "text": [
      "\n",
      "CPU times: user 38.8 s, sys: 924 ms, total: 39.7 s\n",
      "Wall time: 1.28 s\n"
     ]
    }
   ],
   "source": [
    "%%time\n",
    "np.random.seed(42)\n",
    "x_0 = np.ones((A.shape[1])) * 0.\n",
    "s_distr = Uniform(-1., 1., (x_0.shape[0], 1))\n",
    "\n",
    "rbfgs_uni = RBFGS(oracle, x_0, s_distr, tolerance=1e-8, \n",
    "                  line_search_options={'method': 'Constant', 'c': 1.})\n",
    "rbfgs_uni.run(100)"
   ]
  },
  {
   "cell_type": "markdown",
   "metadata": {},
   "source": [
    "plt.plot(rbfgs_uni.hist['func'])"
   ]
  },
  {
   "cell_type": "markdown",
   "metadata": {},
   "source": [
    "**Reduced SVD**"
   ]
  },
  {
   "cell_type": "code",
   "execution_count": 6,
   "metadata": {},
   "outputs": [],
   "source": [
    "# A, b = A[:10000], b[:10000]\n",
    "U, sigma_diag, _ = scipy.linalg.svd(A.toarray().T, full_matrices=False)"
   ]
  },
  {
   "cell_type": "code",
   "execution_count": 7,
   "metadata": {},
   "outputs": [
    {
     "data": {
      "application/vnd.jupyter.widget-view+json": {
       "model_id": "f5ec7e1ad95546f6b50b3ed8abdd8dee",
       "version_major": 2,
       "version_minor": 0
      },
      "text/plain": [
       "HBox(children=(IntProgress(value=0), HTML(value='')))"
      ]
     },
     "metadata": {},
     "output_type": "display_data"
    },
    {
     "name": "stdout",
     "output_type": "stream",
     "text": [
      "\n",
      "CPU times: user 1min 18s, sys: 1.63 s, total: 1min 20s\n",
      "Wall time: 2.5 s\n"
     ]
    }
   ],
   "source": [
    "%%time\n",
    "s_distr = CustomDiscrete(U / sigma_diag)\n",
    "rbfgs_svd = RBFGS(oracle, x_0, s_distr)\n",
    "rbfgs_svd.run(100)"
   ]
  },
  {
   "cell_type": "markdown",
   "metadata": {},
   "source": [
    "**R-BFGS full hessian**"
   ]
  },
  {
   "cell_type": "code",
   "execution_count": 8,
   "metadata": {},
   "outputs": [
    {
     "data": {
      "application/vnd.jupyter.widget-view+json": {
       "model_id": "32f51159559e411880d5407f5dabe4cd",
       "version_major": 2,
       "version_minor": 0
      },
      "text/plain": [
       "HBox(children=(IntProgress(value=0, max=10), HTML(value='')))"
      ]
     },
     "metadata": {},
     "output_type": "display_data"
    },
    {
     "name": "stdout",
     "output_type": "stream",
     "text": [
      "CPU times: user 1min 4s, sys: 3.3 s, total: 1min 7s\n",
      "Wall time: 2.33 s\n"
     ]
    }
   ],
   "source": [
    "%%time\n",
    "s_distr = Identity(x_0.shape[0])\n",
    "rbfgs_full = RBFGS(oracle, x_0, s_distr)\n",
    "rbfgs_full.run(10)"
   ]
  },
  {
   "cell_type": "markdown",
   "metadata": {},
   "source": [
    "**Newton**"
   ]
  },
  {
   "cell_type": "code",
   "execution_count": 9,
   "metadata": {},
   "outputs": [
    {
     "data": {
      "application/vnd.jupyter.widget-view+json": {
       "model_id": "55aa95a28a914af8b5db747ab6425294",
       "version_major": 2,
       "version_minor": 0
      },
      "text/plain": [
       "HBox(children=(IntProgress(value=0), HTML(value='')))"
      ]
     },
     "metadata": {},
     "output_type": "display_data"
    },
    {
     "name": "stdout",
     "output_type": "stream",
     "text": [
      "CPU times: user 21.3 s, sys: 564 ms, total: 21.9 s\n",
      "Wall time: 527 ms\n"
     ]
    }
   ],
   "source": [
    "%%time\n",
    "newton = Newton(oracle, x_0)\n",
    "newton.run(100)"
   ]
  },
  {
   "cell_type": "markdown",
   "metadata": {},
   "source": [
    "**Gradient descent**"
   ]
  },
  {
   "cell_type": "code",
   "execution_count": 10,
   "metadata": {},
   "outputs": [
    {
     "data": {
      "application/vnd.jupyter.widget-view+json": {
       "model_id": "d6bc72468040415f8e6a059acc3ccd3e",
       "version_major": 2,
       "version_minor": 0
      },
      "text/plain": [
       "HBox(children=(IntProgress(value=0, max=1000), HTML(value='')))"
      ]
     },
     "metadata": {},
     "output_type": "display_data"
    },
    {
     "name": "stdout",
     "output_type": "stream",
     "text": [
      "\n",
      "\n",
      "CPU times: user 6.67 s, sys: 123 ms, total: 6.79 s\n",
      "Wall time: 1.11 s\n"
     ]
    }
   ],
   "source": [
    "%%time\n",
    "gd = GradientDescent(oracle, x_0, tolerance=1e-5)\n",
    "gd.run(1000)"
   ]
  },
  {
   "cell_type": "markdown",
   "metadata": {},
   "source": [
    "**Comparison**"
   ]
  },
  {
   "cell_type": "code",
   "execution_count": 15,
   "metadata": {},
   "outputs": [
    {
     "data": {
      "image/png": "[encoded data removed]",
      "text/plain": [
       "<Figure size 864x576 with 2 Axes>"
      ]
     },
     "metadata": {
      "needs_background": "light"
     },
     "output_type": "display_data"
    }
   ],
   "source": [
    "plt.suptitle('Logistic regression, w8a dataset (50k x 300). Regularization coeff = {:.2e}'.format(regcoef))\n",
    "\n",
    "plt.subplot(121)\n",
    "plt.plot(rbfgs_uni.hist['func'], label='R-BFGS, single column, Uniform[-1., 1.]')\n",
    "plt.plot(newton.hist['func'], label='Newton with Wolfe line search')\n",
    "plt.plot(gd.hist['func'], label='GD with Wolfe line search')\n",
    "plt.plot(rbfgs_svd.hist['func'], label='R-BFGS, distribution via SVD')\n",
    "plt.plot(lbfgs_10.hist['func'], label='L-BFGS-10')\n",
    "\n",
    "plt.xlabel('Iteration number')\n",
    "plt.ylabel('Function value')\n",
    "plt.legend()\n",
    "plt.grid()\n",
    "\n",
    "plt.subplot(122)\n",
    "plt.plot(rbfgs_uni.hist['time'], rbfgs_uni.hist['func'], label='R-BFGS, single column, Uniform[-1., 1.]')\n",
    "plt.plot(newton.hist['time'], newton.hist['func'], label='Newton with Wolfe line search')\n",
    "plt.plot(gd.hist['time'], gd.hist['func'], label='GD with Wolfe line search')\n",
    "plt.plot(rbfgs_svd.hist['time'], rbfgs_svd.hist['func'], label='R-BFGS, distribution via SVD')\n",
    "plt.plot(lbfgs_10.hist['time'], lbfgs_10.hist['func'], label='L-BFGS-10')\n",
    "plt.xlabel('Time')\n",
    "plt.ylabel('Function value')\n",
    "plt.legend()\n",
    "plt.grid()\n",
    "\n",
    "# plt.savefig('fig.png')"
   ]
  },
  {
   "cell_type": "markdown",
   "metadata": {},
   "source": [
    "### Choose basis columns via QR decomposition"
   ]
  },
  {
   "cell_type": "code",
   "execution_count": 50,
   "metadata": {},
   "outputs": [
    {
     "name": "stdout",
     "output_type": "stream",
     "text": [
      "CPU times: user 5min 11s, sys: 33.4 s, total: 5min 45s\n",
      "Wall time: 55.6 s\n"
     ]
    }
   ],
   "source": [
    "%%time\n",
    "Q, R = scipy.linalg.qr(A.toarray())"
   ]
  },
  {
   "cell_type": "code",
   "execution_count": 82,
   "metadata": {},
   "outputs": [
    {
     "name": "stdout",
     "output_type": "stream",
     "text": [
      "CPU times: user 5.41 s, sys: 401 ms, total: 5.81 s\n",
      "Wall time: 408 ms\n"
     ]
    }
   ],
   "source": [
    "%%time\n",
    "A_nondeg = A.toarray()[:, np.abs(R.diagonal()) > 1e-10]\n",
    "U_nondeg, sigma_nondeg, Vh_nondeg = scipy.linalg.svd(A_nondeg, full_matrices=False)"
   ]
  },
  {
   "cell_type": "code",
   "execution_count": 121,
   "metadata": {},
   "outputs": [
    {
     "data": {
      "text/plain": [
       "0.4942853845376931"
      ]
     },
     "execution_count": 121,
     "metadata": {},
     "output_type": "execute_result"
    }
   ],
   "source": [
    "sigma_nondeg.min()"
   ]
  },
  {
   "cell_type": "code",
   "execution_count": null,
   "metadata": {},
   "outputs": [],
   "source": []
  },
  {
   "cell_type": "code",
   "execution_count": null,
   "metadata": {},
   "outputs": [],
   "source": []
  }
 ],
 "metadata": {
  "kernelspec": {
   "display_name": "Python 3",
   "language": "python",
   "name": "python3"
  },
  "language_info": {
   "codemirror_mode": {
    "name": "ipython",
    "version": 3
   },
   "file_extension": ".py",
   "mimetype": "text/x-python",
   "name": "python",
   "nbconvert_exporter": "python",
   "pygments_lexer": "ipython3",
   "version": "3.7.4"
  }
 },
 "nbformat": 4,
 "nbformat_minor": 4
}
