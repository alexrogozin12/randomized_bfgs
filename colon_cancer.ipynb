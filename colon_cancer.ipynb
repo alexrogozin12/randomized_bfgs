{
 "cells": [
  {
   "cell_type": "code",
   "execution_count": 1,
   "metadata": {},
   "outputs": [],
   "source": [
    "import numpy as np\n",
    "import numpy.linalg as npla\n",
    "import scipy\n",
    "import scipy.linalg as sla\n",
    "import pickle\n",
    "import os\n",
    "from sklearn.datasets import load_svmlight_file\n",
    "\n",
    "from methods import GradientDescent, Newton, Nesterov, RBFGS, LBFGS, BFGS\n",
    "from methods.rbfgs import Uniform, Gaussian, CustomDiscrete, ConstantDistribution, \\\n",
    "                          MatrixDistribution\n",
    "from oracles import LogRegL2Oracle, create_log_reg_oracle, QuadraticOracle\n",
    "from utils import select_basis_columns, run_rbfgs_experiment, run_all_methods\n",
    "\n",
    "import scipy.sparse.linalg as spla\n",
    "import scipy.sparse as sps"
   ]
  },
  {
   "cell_type": "code",
   "execution_count": 2,
   "metadata": {},
   "outputs": [
    {
     "name": "stdout",
     "output_type": "stream",
     "text": [
      "(n, d) = (62, 2000)\n",
      "density = 1.0\n"
     ]
    }
   ],
   "source": [
    "file = './datasets/colon-cancer'\n",
    "A, b = load_svmlight_file(file, n_features=None)\n",
    "print('(n, d) = {}'.format(A.shape))\n",
    "print('density = {}'.format(A.count_nonzero() / (A.shape[0] * A.shape[1])))\n",
    "A = A.toarray()"
   ]
  },
  {
   "cell_type": "code",
   "execution_count": 3,
   "metadata": {},
   "outputs": [
    {
     "name": "stdout",
     "output_type": "stream",
     "text": [
      "Smoothness based on singular values: 77.71678149773064\n",
      "Smoothness based on row norms: 961.291553805779\n"
     ]
    }
   ],
   "source": [
    "with open('./results/colon_cancer/regcoef=1.00e-04/svd.pkl', 'rb') as file:\n",
    "    U, sigma_diag, V = pickle.load(file)\n",
    "print('Smoothness based on singular values: {}'.format(sigma_diag.max()**2 / (4. * A.shape[0])))\n",
    "print('Smoothness based on row norms: {}'.format(np.max(npla.norm(A, axis=1))**2 / 4.))"
   ]
  },
  {
   "cell_type": "code",
   "execution_count": 6,
   "metadata": {},
   "outputs": [],
   "source": [
    "sketch_sizes = [1, 10, 20, 50, 100, 200, 500]\n",
    "def experiment_colon_cancer(regcoef):\n",
    "    oracle = create_log_reg_oracle(A, b, regcoef)\n",
    "    run_all_methods(\n",
    "        oracle=oracle, \n",
    "        sketch_sizes=sketch_sizes, \n",
    "        max_iter=1000, \n",
    "        mat=A, \n",
    "        output_folder='./results/colon_cancer/regcoef={:.2e}'.format(regcoef), \n",
    "        sigma_tolerance=1e-8, \n",
    "        method_tolerance=1e-15, \n",
    "        stopping_criteria='grad_abs', \n",
    "        random_state=0, \n",
    "    )"
   ]
  },
  {
   "cell_type": "code",
   "execution_count": 8,
   "metadata": {},
   "outputs": [
    {
     "name": "stdout",
     "output_type": "stream",
     "text": [
      "Read SVD from ./results/colon_cancer/regcoef=1.00e-04/svd.pkl\n",
      "Singular values above tolerance: 62\n",
      "\n",
      "RBFGS-SVD sketch... Done\n",
      "RBFGS-SVD sketch no sigma... Done\n",
      "RBFGS-gauss... Done\n",
      "RBFGS-coord...Done\n",
      "BFGS... Done\n",
      "Nesterov...Done\n",
      "\n",
      "All runs completed.\n",
      "CPU times: user 57min 41s, sys: 2min 58s, total: 1h 40s\n",
      "Wall time: 1min 54s\n"
     ]
    }
   ],
   "source": [
    "%%time\n",
    "experiment_colon_cancer(1e-4)"
   ]
  },
  {
   "cell_type": "code",
   "execution_count": 7,
   "metadata": {},
   "outputs": [
    {
     "name": "stdout",
     "output_type": "stream",
     "text": [
      "Read SVD from ./results/colon_cancer/regcoef=1.00e-01/svd.pkl\n",
      "Singular values above tolerance: 62\n",
      "\n",
      "RBFGS-SVD sketch... Done\n",
      "RBFGS-SVD sketch no sigma... Done\n",
      "RBFGS-gauss... Done\n",
      "RBFGS-coord...Done\n",
      "BFGS... Done\n",
      "\n",
      "All runs completed.\n",
      "CPU times: user 1h 17min 38s, sys: 4min 45s, total: 1h 22min 24s\n",
      "Wall time: 2min 34s\n"
     ]
    }
   ],
   "source": [
    "%%time\n",
    "experiment_colon_cancer(1e-1)"
   ]
  },
  {
   "cell_type": "markdown",
   "metadata": {},
   "source": [
    "### Nesterov"
   ]
  },
  {
   "cell_type": "code",
   "execution_count": 4,
   "metadata": {},
   "outputs": [
    {
     "name": "stdout",
     "output_type": "stream",
     "text": [
      "(n, d) = (62, 2000)\n",
      "density = 1.0\n"
     ]
    }
   ],
   "source": [
    "file = './datasets/colon-cancer'\n",
    "A, b = load_svmlight_file(file, n_features=None)\n",
    "regcoef = 1e-1\n",
    "print('(n, d) = {}'.format(A.shape))\n",
    "print('density = {}'.format(A.count_nonzero() / (A.shape[0] * A.shape[1])))\n",
    "oracle = create_log_reg_oracle(A, b, regcoef=regcoef)"
   ]
  },
  {
   "cell_type": "code",
   "execution_count": 5,
   "metadata": {},
   "outputs": [],
   "source": [
    "np.random.seed(42)\n",
    "x_0 = np.random.normal(size=A.shape[1])\n",
    "output_folder = './results/colon_cancer/regcoef={:.2e}'.format(regcoef)\n",
    "method = Nesterov(oracle, x_0, stopping_criteria='grad_abs', \n",
    "                  tolerance=1e-16)\n",
    "method.run(max_iter=50000, max_time=60)\n",
    "method.oracle = None\n",
    "with open('{}/nesterov.pkl'.format(output_folder), 'wb') as file:\n",
    "    pickle.dump(method, file)"
   ]
  },
  {
   "cell_type": "code",
   "execution_count": null,
   "metadata": {},
   "outputs": [],
   "source": []
  }
 ],
 "metadata": {
  "kernelspec": {
   "display_name": "Python 3",
   "language": "python",
   "name": "python3"
  },
  "language_info": {
   "codemirror_mode": {
    "name": "ipython",
    "version": 3
   },
   "file_extension": ".py",
   "mimetype": "text/x-python",
   "name": "python",
   "nbconvert_exporter": "python",
   "pygments_lexer": "ipython3",
   "version": "3.7.4"
  }
 },
 "nbformat": 4,
 "nbformat_minor": 4
}
