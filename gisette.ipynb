{
 "cells": [
  {
   "cell_type": "code",
   "execution_count": 1,
   "metadata": {},
   "outputs": [],
   "source": [
    "import numpy as np\n",
    "import numpy.linalg as npla\n",
    "import scipy\n",
    "import scipy.linalg as sla\n",
    "import pickle\n",
    "import os\n",
    "from sklearn.datasets import load_svmlight_file\n",
    "\n",
    "from methods import GradientDescent, Newton, Nesterov, RBFGS, LBFGS, BFGS\n",
    "from methods.rbfgs import Uniform, Gaussian, CustomDiscrete\n",
    "from oracles import LogRegL2Oracle, create_log_reg_oracle, QuadraticOracle\n",
    "from utils import select_basis_columns, run_rbfgs_experiment, run_all_methods"
   ]
  },
  {
   "cell_type": "code",
   "execution_count": 4,
   "metadata": {},
   "outputs": [],
   "source": [
    "file = './datasets/gisette_scale'\n",
    "A, b = load_svmlight_file(file, n_features=None)\n",
    "A = A.toarray()\n",
    "regcoef = 1 / b.size\n",
    "oracle = create_log_reg_oracle(A, b, 1 / b.size)"
   ]
  },
  {
   "cell_type": "code",
   "execution_count": null,
   "metadata": {},
   "outputs": [
    {
     "name": "stdout",
     "output_type": "stream",
     "text": [
      "Singular values above tolerance: 4844\n",
      "\n",
      "RBFGS-SVD sketch... "
     ]
    }
   ],
   "source": [
    "%%time\n",
    "sketch_sizes = [1, 2, 3, 5, 10, 70, 200, 500]\n",
    "run_all_methods(\n",
    "    oracle=oracle, \n",
    "    sketch_sizes=sketch_sizes, \n",
    "    max_iter=1000, \n",
    "    mat=A, \n",
    "    output_folder='./results/gisette/regcoef={:.2e}'.format(regcoef), \n",
    "    sigma_tolerance=1e-8, \n",
    "    method_tolerance=1e-16, \n",
    "    stopping_criteria='grad_abs', \n",
    "    random_state=0\n",
    ")"
   ]
  },
  {
   "cell_type": "code",
   "execution_count": null,
   "metadata": {},
   "outputs": [],
   "source": []
  }
 ],
 "metadata": {
  "kernelspec": {
   "display_name": "Python 3",
   "language": "python",
   "name": "python3"
  },
  "language_info": {
   "codemirror_mode": {
    "name": "ipython",
    "version": 3
   },
   "file_extension": ".py",
   "mimetype": "text/x-python",
   "name": "python",
   "nbconvert_exporter": "python",
   "pygments_lexer": "ipython3",
   "version": "3.7.4"
  }
 },
 "nbformat": 4,
 "nbformat_minor": 4
}
